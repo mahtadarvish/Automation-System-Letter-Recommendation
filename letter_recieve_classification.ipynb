{
  "nbformat": 4,
  "nbformat_minor": 5,
  "metadata": {
    "kernelspec": {
      "display_name": "Python 3",
      "language": "python",
      "name": "python3"
    },
    "colab": {
      "name": " letter recieve classification.ipynb",
      "provenance": [],
      "collapsed_sections": []
    },
    "accelerator": "GPU"
  },
  "cells": [
    {
      "cell_type": "code",
      "metadata": {
        "colab": {
          "base_uri": "https://localhost:8080/"
        },
        "id": "GnXM1ZCzNdxx",
        "outputId": "5c916f5a-fa1f-4640-cae5-6eb88774a2dd"
      },
      "source": [
        "from google.colab import drive\n",
        "drive.mount('/content/drive/')"
      ],
      "id": "GnXM1ZCzNdxx",
      "execution_count": 31,
      "outputs": [
        {
          "output_type": "stream",
          "text": [
            "Drive already mounted at /content/drive/; to attempt to forcibly remount, call drive.mount(\"/content/drive/\", force_remount=True).\n"
          ],
          "name": "stdout"
        }
      ]
    },
    {
      "cell_type": "code",
      "metadata": {
        "colab": {
          "base_uri": "https://localhost:8080/"
        },
        "id": "Qm_IgW5LNdm7",
        "outputId": "7a59c9ca-7a4e-4594-d82e-4b4c0725f8b7"
      },
      "source": [
        "cd /content/drive/My Drive/payaletter"
      ],
      "id": "Qm_IgW5LNdm7",
      "execution_count": 32,
      "outputs": [
        {
          "output_type": "stream",
          "text": [
            "/content/drive/My Drive/payaletter\n"
          ],
          "name": "stdout"
        }
      ]
    },
    {
      "cell_type": "code",
      "metadata": {
        "id": "5543baf1"
      },
      "source": [
        "import numpy as np # linear algebra\n",
        "import pandas as pd # data processing, CSV file I/O (e.g. pd.read_csv)\n",
        "import seaborn as sns\n",
        "from matplotlib import pyplot as plt\n",
        "import os\n",
        "df = pd.read_excel(\"Automation Receiver User Recommander.xlsx\")"
      ],
      "id": "5543baf1",
      "execution_count": 33,
      "outputs": []
    },
    {
      "cell_type": "code",
      "metadata": {
        "colab": {
          "base_uri": "https://localhost:8080/",
          "height": 224
        },
        "id": "c212c58d",
        "outputId": "3bcc783f-53ea-4d87-ca7b-cb9ecb57ecb3"
      },
      "source": [
        "df.head()"
      ],
      "id": "c212c58d",
      "execution_count": 34,
      "outputs": [
        {
          "output_type": "execute_result",
          "data": {
            "text/html": [
              "<div>\n",
              "<style scoped>\n",
              "    .dataframe tbody tr th:only-of-type {\n",
              "        vertical-align: middle;\n",
              "    }\n",
              "\n",
              "    .dataframe tbody tr th {\n",
              "        vertical-align: top;\n",
              "    }\n",
              "\n",
              "    .dataframe thead th {\n",
              "        text-align: right;\n",
              "    }\n",
              "</style>\n",
              "<table border=\"1\" class=\"dataframe\">\n",
              "  <thead>\n",
              "    <tr style=\"text-align: right;\">\n",
              "      <th></th>\n",
              "      <th>Sender</th>\n",
              "      <th>Class</th>\n",
              "      <th>IsCopy</th>\n",
              "      <th>NodeType</th>\n",
              "      <th>LevelNo</th>\n",
              "      <th>IsPrivate</th>\n",
              "      <th>Time</th>\n",
              "      <th>SenderWorkgroup</th>\n",
              "      <th>SenderPost</th>\n",
              "      <th>WaitTime1</th>\n",
              "      <th>WaitTime2</th>\n",
              "      <th>HasAttachment</th>\n",
              "      <th>OwnerUser</th>\n",
              "      <th>OwnerWorkgroup</th>\n",
              "      <th>IsOwner</th>\n",
              "      <th>HasBody</th>\n",
              "      <th>IsCopied</th>\n",
              "      <th>HasCustomDisplayName</th>\n",
              "      <th>IsTask</th>\n",
              "      <th>IsSent</th>\n",
              "      <th>ReceiverUser</th>\n",
              "    </tr>\n",
              "  </thead>\n",
              "  <tbody>\n",
              "    <tr>\n",
              "      <th>0</th>\n",
              "      <td>100</td>\n",
              "      <td>frmTelAnounce</td>\n",
              "      <td>0</td>\n",
              "      <td>ForNotification</td>\n",
              "      <td>3</td>\n",
              "      <td>0</td>\n",
              "      <td>16</td>\n",
              "      <td>sales</td>\n",
              "      <td>2.0</td>\n",
              "      <td>42.0</td>\n",
              "      <td>51</td>\n",
              "      <td>0</td>\n",
              "      <td>100</td>\n",
              "      <td>148</td>\n",
              "      <td>0</td>\n",
              "      <td>0</td>\n",
              "      <td>0</td>\n",
              "      <td>0</td>\n",
              "      <td>0</td>\n",
              "      <td>0</td>\n",
              "      <td>100</td>\n",
              "    </tr>\n",
              "    <tr>\n",
              "      <th>1</th>\n",
              "      <td>101</td>\n",
              "      <td>Internal</td>\n",
              "      <td>0</td>\n",
              "      <td>ForNotification</td>\n",
              "      <td>2</td>\n",
              "      <td>0</td>\n",
              "      <td>15</td>\n",
              "      <td>sales</td>\n",
              "      <td>2.0</td>\n",
              "      <td>1.0</td>\n",
              "      <td>1</td>\n",
              "      <td>1</td>\n",
              "      <td>vahid</td>\n",
              "      <td>sales</td>\n",
              "      <td>1</td>\n",
              "      <td>0</td>\n",
              "      <td>0</td>\n",
              "      <td>1</td>\n",
              "      <td>0</td>\n",
              "      <td>0</td>\n",
              "      <td>101</td>\n",
              "    </tr>\n",
              "    <tr>\n",
              "      <th>2</th>\n",
              "      <td>101</td>\n",
              "      <td>Sadereh</td>\n",
              "      <td>0</td>\n",
              "      <td>ForNotification</td>\n",
              "      <td>2</td>\n",
              "      <td>0</td>\n",
              "      <td>10</td>\n",
              "      <td>sales</td>\n",
              "      <td>2.0</td>\n",
              "      <td>1.0</td>\n",
              "      <td>1</td>\n",
              "      <td>1</td>\n",
              "      <td>vahid</td>\n",
              "      <td>sales</td>\n",
              "      <td>1</td>\n",
              "      <td>0</td>\n",
              "      <td>0</td>\n",
              "      <td>1</td>\n",
              "      <td>0</td>\n",
              "      <td>0</td>\n",
              "      <td>101</td>\n",
              "    </tr>\n",
              "    <tr>\n",
              "      <th>3</th>\n",
              "      <td>101</td>\n",
              "      <td>Sadereh</td>\n",
              "      <td>0</td>\n",
              "      <td>ForNotification</td>\n",
              "      <td>2</td>\n",
              "      <td>0</td>\n",
              "      <td>15</td>\n",
              "      <td>sales</td>\n",
              "      <td>2.0</td>\n",
              "      <td>2.0</td>\n",
              "      <td>2</td>\n",
              "      <td>0</td>\n",
              "      <td>vahid</td>\n",
              "      <td>sales</td>\n",
              "      <td>1</td>\n",
              "      <td>0</td>\n",
              "      <td>0</td>\n",
              "      <td>1</td>\n",
              "      <td>0</td>\n",
              "      <td>0</td>\n",
              "      <td>101</td>\n",
              "    </tr>\n",
              "    <tr>\n",
              "      <th>4</th>\n",
              "      <td>101</td>\n",
              "      <td>Sadereh</td>\n",
              "      <td>0</td>\n",
              "      <td>ForNotification</td>\n",
              "      <td>3</td>\n",
              "      <td>0</td>\n",
              "      <td>14</td>\n",
              "      <td>sales</td>\n",
              "      <td>2.0</td>\n",
              "      <td>12.0</td>\n",
              "      <td>88</td>\n",
              "      <td>0</td>\n",
              "      <td>101</td>\n",
              "      <td>sales</td>\n",
              "      <td>0</td>\n",
              "      <td>0</td>\n",
              "      <td>0</td>\n",
              "      <td>1</td>\n",
              "      <td>0</td>\n",
              "      <td>0</td>\n",
              "      <td>101</td>\n",
              "    </tr>\n",
              "  </tbody>\n",
              "</table>\n",
              "</div>"
            ],
            "text/plain": [
              "  Sender          Class  IsCopy  ... IsTask  IsSent  ReceiverUser\n",
              "0    100  frmTelAnounce       0  ...      0       0           100\n",
              "1    101       Internal       0  ...      0       0           101\n",
              "2    101        Sadereh       0  ...      0       0           101\n",
              "3    101        Sadereh       0  ...      0       0           101\n",
              "4    101        Sadereh       0  ...      0       0           101\n",
              "\n",
              "[5 rows x 21 columns]"
            ]
          },
          "metadata": {
            "tags": []
          },
          "execution_count": 34
        }
      ]
    },
    {
      "cell_type": "code",
      "metadata": {
        "colab": {
          "base_uri": "https://localhost:8080/"
        },
        "id": "ed6f7792",
        "outputId": "a849ca38-1454-4513-f273-e234e56adc58"
      },
      "source": [
        "print(df.info())"
      ],
      "id": "ed6f7792",
      "execution_count": 35,
      "outputs": [
        {
          "output_type": "stream",
          "text": [
            "<class 'pandas.core.frame.DataFrame'>\n",
            "RangeIndex: 59014 entries, 0 to 59013\n",
            "Data columns (total 21 columns):\n",
            " #   Column                Non-Null Count  Dtype  \n",
            "---  ------                --------------  -----  \n",
            " 0   Sender                59014 non-null  object \n",
            " 1   Class                 59014 non-null  object \n",
            " 2   IsCopy                59014 non-null  int64  \n",
            " 3   NodeType              58950 non-null  object \n",
            " 4   LevelNo               59014 non-null  int64  \n",
            " 5   IsPrivate             59014 non-null  int64  \n",
            " 6   Time                  59014 non-null  int64  \n",
            " 7   SenderWorkgroup       56503 non-null  object \n",
            " 8   SenderPost            51621 non-null  float64\n",
            " 9   WaitTime1             58971 non-null  float64\n",
            " 10  WaitTime2             59014 non-null  int64  \n",
            " 11  HasAttachment         59014 non-null  int64  \n",
            " 12  OwnerUser             59014 non-null  object \n",
            " 13  OwnerWorkgroup        59014 non-null  object \n",
            " 14  IsOwner               59014 non-null  int64  \n",
            " 15  HasBody               59014 non-null  int64  \n",
            " 16  IsCopied              59014 non-null  int64  \n",
            " 17  HasCustomDisplayName  59014 non-null  int64  \n",
            " 18  IsTask                59014 non-null  int64  \n",
            " 19  IsSent                59014 non-null  int64  \n",
            " 20  ReceiverUser          59014 non-null  object \n",
            "dtypes: float64(2), int64(12), object(7)\n",
            "memory usage: 9.5+ MB\n",
            "None\n"
          ],
          "name": "stdout"
        }
      ]
    },
    {
      "cell_type": "code",
      "metadata": {
        "colab": {
          "base_uri": "https://localhost:8080/"
        },
        "id": "9c33fa23",
        "outputId": "0216c071-a5f0-4d26-b7cd-fe9a7d25cffb"
      },
      "source": [
        "df.isnull().values.any()"
      ],
      "id": "9c33fa23",
      "execution_count": 36,
      "outputs": [
        {
          "output_type": "execute_result",
          "data": {
            "text/plain": [
              "True"
            ]
          },
          "metadata": {
            "tags": []
          },
          "execution_count": 36
        }
      ]
    },
    {
      "cell_type": "code",
      "metadata": {
        "colab": {
          "base_uri": "https://localhost:8080/"
        },
        "id": "307a5a1c",
        "outputId": "a5f6ce29-b7e3-4539-b4d7-6c5e54ed9de5"
      },
      "source": [
        "# Import label encoder \n",
        "from sklearn import preprocessing\n",
        "# label_encoder object knows how to understand word labels. \n",
        "label_encoder = preprocessing.LabelEncoder()\n",
        "# Encode labels in column 'Country'. \n",
        "df['Sender']= label_encoder.fit_transform(df['Sender'].astype(str))\n",
        "df['Class']= label_encoder.fit_transform(df['Class'])\n",
        "df['NodeType']= label_encoder.fit_transform(df['NodeType'].astype(str))\n",
        "df['OwnerWorkgroup']= label_encoder.fit_transform(df['OwnerWorkgroup'].astype(str))\n",
        "df['OwnerUser']= label_encoder.fit_transform(df['OwnerUser'].astype(str))\n",
        "df['ReceiverUser']= label_encoder.fit_transform(df['ReceiverUser'].astype(str))\n",
        "df['SenderWorkgroup']= label_encoder.fit_transform(df['SenderWorkgroup'].astype(str))\n",
        "\n",
        "print(df.head())"
      ],
      "id": "307a5a1c",
      "execution_count": 37,
      "outputs": [
        {
          "output_type": "stream",
          "text": [
            "   Sender  Class  IsCopy  ...  IsTask  IsSent  ReceiverUser\n",
            "0       1     21       0  ...       0       0             1\n",
            "1       2      3       0  ...       0       0             2\n",
            "2       2      6       0  ...       0       0             2\n",
            "3       2      6       0  ...       0       0             2\n",
            "4       2      6       0  ...       0       0             2\n",
            "\n",
            "[5 rows x 21 columns]\n"
          ],
          "name": "stdout"
        }
      ]
    },
    {
      "cell_type": "code",
      "metadata": {
        "colab": {
          "base_uri": "https://localhost:8080/"
        },
        "id": "cKUed6EET99_",
        "outputId": "67f21854-33a7-4c29-c718-3e6a782e63bc"
      },
      "source": [
        "df.ReceiverUser"
      ],
      "id": "cKUed6EET99_",
      "execution_count": 38,
      "outputs": [
        {
          "output_type": "execute_result",
          "data": {
            "text/plain": [
              "0          1\n",
              "1          2\n",
              "2          2\n",
              "3          2\n",
              "4          2\n",
              "        ... \n",
              "59009    145\n",
              "59010    145\n",
              "59011    145\n",
              "59012    145\n",
              "59013    145\n",
              "Name: ReceiverUser, Length: 59014, dtype: int64"
            ]
          },
          "metadata": {
            "tags": []
          },
          "execution_count": 38
        }
      ]
    },
    {
      "cell_type": "code",
      "metadata": {
        "colab": {
          "base_uri": "https://localhost:8080/",
          "height": 317
        },
        "id": "d0f1723d",
        "outputId": "a41feb60-98e0-4a1b-b545-bd14cc021827"
      },
      "source": [
        "df.describe()"
      ],
      "id": "d0f1723d",
      "execution_count": 39,
      "outputs": [
        {
          "output_type": "execute_result",
          "data": {
            "text/html": [
              "<div>\n",
              "<style scoped>\n",
              "    .dataframe tbody tr th:only-of-type {\n",
              "        vertical-align: middle;\n",
              "    }\n",
              "\n",
              "    .dataframe tbody tr th {\n",
              "        vertical-align: top;\n",
              "    }\n",
              "\n",
              "    .dataframe thead th {\n",
              "        text-align: right;\n",
              "    }\n",
              "</style>\n",
              "<table border=\"1\" class=\"dataframe\">\n",
              "  <thead>\n",
              "    <tr style=\"text-align: right;\">\n",
              "      <th></th>\n",
              "      <th>Sender</th>\n",
              "      <th>Class</th>\n",
              "      <th>IsCopy</th>\n",
              "      <th>NodeType</th>\n",
              "      <th>LevelNo</th>\n",
              "      <th>IsPrivate</th>\n",
              "      <th>Time</th>\n",
              "      <th>SenderWorkgroup</th>\n",
              "      <th>SenderPost</th>\n",
              "      <th>WaitTime1</th>\n",
              "      <th>WaitTime2</th>\n",
              "      <th>HasAttachment</th>\n",
              "      <th>OwnerUser</th>\n",
              "      <th>OwnerWorkgroup</th>\n",
              "      <th>IsOwner</th>\n",
              "      <th>HasBody</th>\n",
              "      <th>IsCopied</th>\n",
              "      <th>HasCustomDisplayName</th>\n",
              "      <th>IsTask</th>\n",
              "      <th>IsSent</th>\n",
              "      <th>ReceiverUser</th>\n",
              "    </tr>\n",
              "  </thead>\n",
              "  <tbody>\n",
              "    <tr>\n",
              "      <th>count</th>\n",
              "      <td>59014.000000</td>\n",
              "      <td>59014.000000</td>\n",
              "      <td>59014.000000</td>\n",
              "      <td>59014.000000</td>\n",
              "      <td>59014.000000</td>\n",
              "      <td>59014.000000</td>\n",
              "      <td>59014.000000</td>\n",
              "      <td>59014.000000</td>\n",
              "      <td>51621.000000</td>\n",
              "      <td>5.897100e+04</td>\n",
              "      <td>5.901400e+04</td>\n",
              "      <td>59014.000000</td>\n",
              "      <td>59014.000000</td>\n",
              "      <td>59014.000000</td>\n",
              "      <td>59014.000000</td>\n",
              "      <td>59014.000000</td>\n",
              "      <td>59014.000000</td>\n",
              "      <td>59014.000000</td>\n",
              "      <td>59014.000000</td>\n",
              "      <td>59014.000000</td>\n",
              "      <td>59014.000000</td>\n",
              "    </tr>\n",
              "    <tr>\n",
              "      <th>mean</th>\n",
              "      <td>90.921493</td>\n",
              "      <td>9.481733</td>\n",
              "      <td>0.003474</td>\n",
              "      <td>1.581540</td>\n",
              "      <td>3.116074</td>\n",
              "      <td>0.000695</td>\n",
              "      <td>12.409496</td>\n",
              "      <td>11.444539</td>\n",
              "      <td>10.111466</td>\n",
              "      <td>1.648564e+04</td>\n",
              "      <td>2.313826e+04</td>\n",
              "      <td>0.262650</td>\n",
              "      <td>74.167926</td>\n",
              "      <td>11.573627</td>\n",
              "      <td>0.462958</td>\n",
              "      <td>0.146304</td>\n",
              "      <td>0.076745</td>\n",
              "      <td>0.898075</td>\n",
              "      <td>0.428322</td>\n",
              "      <td>0.017606</td>\n",
              "      <td>90.921493</td>\n",
              "    </tr>\n",
              "    <tr>\n",
              "      <th>std</th>\n",
              "      <td>30.664314</td>\n",
              "      <td>6.130313</td>\n",
              "      <td>0.058837</td>\n",
              "      <td>0.548978</td>\n",
              "      <td>1.818846</td>\n",
              "      <td>0.026349</td>\n",
              "      <td>2.803502</td>\n",
              "      <td>2.364624</td>\n",
              "      <td>6.205497</td>\n",
              "      <td>8.558628e+04</td>\n",
              "      <td>9.788179e+04</td>\n",
              "      <td>0.440077</td>\n",
              "      <td>27.541910</td>\n",
              "      <td>2.550988</td>\n",
              "      <td>0.498630</td>\n",
              "      <td>0.353414</td>\n",
              "      <td>0.266188</td>\n",
              "      <td>0.302552</td>\n",
              "      <td>0.494840</td>\n",
              "      <td>0.131515</td>\n",
              "      <td>30.664314</td>\n",
              "    </tr>\n",
              "    <tr>\n",
              "      <th>min</th>\n",
              "      <td>0.000000</td>\n",
              "      <td>0.000000</td>\n",
              "      <td>0.000000</td>\n",
              "      <td>0.000000</td>\n",
              "      <td>2.000000</td>\n",
              "      <td>0.000000</td>\n",
              "      <td>4.000000</td>\n",
              "      <td>0.000000</td>\n",
              "      <td>1.000000</td>\n",
              "      <td>-6.500000e+01</td>\n",
              "      <td>-6.500000e+01</td>\n",
              "      <td>0.000000</td>\n",
              "      <td>0.000000</td>\n",
              "      <td>0.000000</td>\n",
              "      <td>0.000000</td>\n",
              "      <td>0.000000</td>\n",
              "      <td>0.000000</td>\n",
              "      <td>0.000000</td>\n",
              "      <td>0.000000</td>\n",
              "      <td>0.000000</td>\n",
              "      <td>0.000000</td>\n",
              "    </tr>\n",
              "    <tr>\n",
              "      <th>25%</th>\n",
              "      <td>58.000000</td>\n",
              "      <td>6.000000</td>\n",
              "      <td>0.000000</td>\n",
              "      <td>1.000000</td>\n",
              "      <td>2.000000</td>\n",
              "      <td>0.000000</td>\n",
              "      <td>10.000000</td>\n",
              "      <td>10.000000</td>\n",
              "      <td>4.000000</td>\n",
              "      <td>3.000000e+00</td>\n",
              "      <td>4.000000e+00</td>\n",
              "      <td>0.000000</td>\n",
              "      <td>46.000000</td>\n",
              "      <td>11.000000</td>\n",
              "      <td>0.000000</td>\n",
              "      <td>0.000000</td>\n",
              "      <td>0.000000</td>\n",
              "      <td>1.000000</td>\n",
              "      <td>0.000000</td>\n",
              "      <td>0.000000</td>\n",
              "      <td>58.000000</td>\n",
              "    </tr>\n",
              "    <tr>\n",
              "      <th>50%</th>\n",
              "      <td>83.000000</td>\n",
              "      <td>9.000000</td>\n",
              "      <td>0.000000</td>\n",
              "      <td>2.000000</td>\n",
              "      <td>3.000000</td>\n",
              "      <td>0.000000</td>\n",
              "      <td>12.000000</td>\n",
              "      <td>13.000000</td>\n",
              "      <td>12.000000</td>\n",
              "      <td>5.100000e+01</td>\n",
              "      <td>1.110000e+02</td>\n",
              "      <td>0.000000</td>\n",
              "      <td>66.000000</td>\n",
              "      <td>13.000000</td>\n",
              "      <td>0.000000</td>\n",
              "      <td>0.000000</td>\n",
              "      <td>0.000000</td>\n",
              "      <td>1.000000</td>\n",
              "      <td>0.000000</td>\n",
              "      <td>0.000000</td>\n",
              "      <td>83.000000</td>\n",
              "    </tr>\n",
              "    <tr>\n",
              "      <th>75%</th>\n",
              "      <td>119.000000</td>\n",
              "      <td>9.000000</td>\n",
              "      <td>0.000000</td>\n",
              "      <td>2.000000</td>\n",
              "      <td>3.000000</td>\n",
              "      <td>0.000000</td>\n",
              "      <td>15.000000</td>\n",
              "      <td>13.000000</td>\n",
              "      <td>13.000000</td>\n",
              "      <td>2.527000e+03</td>\n",
              "      <td>5.869000e+03</td>\n",
              "      <td>1.000000</td>\n",
              "      <td>97.000000</td>\n",
              "      <td>13.000000</td>\n",
              "      <td>1.000000</td>\n",
              "      <td>0.000000</td>\n",
              "      <td>0.000000</td>\n",
              "      <td>1.000000</td>\n",
              "      <td>1.000000</td>\n",
              "      <td>0.000000</td>\n",
              "      <td>119.000000</td>\n",
              "    </tr>\n",
              "    <tr>\n",
              "      <th>max</th>\n",
              "      <td>145.000000</td>\n",
              "      <td>32.000000</td>\n",
              "      <td>1.000000</td>\n",
              "      <td>6.000000</td>\n",
              "      <td>28.000000</td>\n",
              "      <td>1.000000</td>\n",
              "      <td>22.000000</td>\n",
              "      <td>17.000000</td>\n",
              "      <td>111.000000</td>\n",
              "      <td>3.252606e+06</td>\n",
              "      <td>3.252606e+06</td>\n",
              "      <td>1.000000</td>\n",
              "      <td>123.000000</td>\n",
              "      <td>17.000000</td>\n",
              "      <td>1.000000</td>\n",
              "      <td>1.000000</td>\n",
              "      <td>1.000000</td>\n",
              "      <td>1.000000</td>\n",
              "      <td>1.000000</td>\n",
              "      <td>1.000000</td>\n",
              "      <td>145.000000</td>\n",
              "    </tr>\n",
              "  </tbody>\n",
              "</table>\n",
              "</div>"
            ],
            "text/plain": [
              "             Sender         Class  ...        IsSent  ReceiverUser\n",
              "count  59014.000000  59014.000000  ...  59014.000000  59014.000000\n",
              "mean      90.921493      9.481733  ...      0.017606     90.921493\n",
              "std       30.664314      6.130313  ...      0.131515     30.664314\n",
              "min        0.000000      0.000000  ...      0.000000      0.000000\n",
              "25%       58.000000      6.000000  ...      0.000000     58.000000\n",
              "50%       83.000000      9.000000  ...      0.000000     83.000000\n",
              "75%      119.000000      9.000000  ...      0.000000    119.000000\n",
              "max      145.000000     32.000000  ...      1.000000    145.000000\n",
              "\n",
              "[8 rows x 21 columns]"
            ]
          },
          "metadata": {
            "tags": []
          },
          "execution_count": 39
        }
      ]
    },
    {
      "cell_type": "code",
      "metadata": {
        "colab": {
          "base_uri": "https://localhost:8080/",
          "height": 439
        },
        "id": "c0a5cf43",
        "outputId": "d79b024d-a83e-430d-b802-46e13aa976cd"
      },
      "source": [
        "df.mod(df, axis='columns', level=None, fill_value=None)"
      ],
      "id": "c0a5cf43",
      "execution_count": 40,
      "outputs": [
        {
          "output_type": "execute_result",
          "data": {
            "text/html": [
              "<div>\n",
              "<style scoped>\n",
              "    .dataframe tbody tr th:only-of-type {\n",
              "        vertical-align: middle;\n",
              "    }\n",
              "\n",
              "    .dataframe tbody tr th {\n",
              "        vertical-align: top;\n",
              "    }\n",
              "\n",
              "    .dataframe thead th {\n",
              "        text-align: right;\n",
              "    }\n",
              "</style>\n",
              "<table border=\"1\" class=\"dataframe\">\n",
              "  <thead>\n",
              "    <tr style=\"text-align: right;\">\n",
              "      <th></th>\n",
              "      <th>Sender</th>\n",
              "      <th>Class</th>\n",
              "      <th>IsCopy</th>\n",
              "      <th>NodeType</th>\n",
              "      <th>LevelNo</th>\n",
              "      <th>IsPrivate</th>\n",
              "      <th>Time</th>\n",
              "      <th>SenderWorkgroup</th>\n",
              "      <th>SenderPost</th>\n",
              "      <th>WaitTime1</th>\n",
              "      <th>WaitTime2</th>\n",
              "      <th>HasAttachment</th>\n",
              "      <th>OwnerUser</th>\n",
              "      <th>OwnerWorkgroup</th>\n",
              "      <th>IsOwner</th>\n",
              "      <th>HasBody</th>\n",
              "      <th>IsCopied</th>\n",
              "      <th>HasCustomDisplayName</th>\n",
              "      <th>IsTask</th>\n",
              "      <th>IsSent</th>\n",
              "      <th>ReceiverUser</th>\n",
              "    </tr>\n",
              "  </thead>\n",
              "  <tbody>\n",
              "    <tr>\n",
              "      <th>0</th>\n",
              "      <td>0.0</td>\n",
              "      <td>0.0</td>\n",
              "      <td>NaN</td>\n",
              "      <td>0.0</td>\n",
              "      <td>0.0</td>\n",
              "      <td>NaN</td>\n",
              "      <td>0.0</td>\n",
              "      <td>0.0</td>\n",
              "      <td>0.0</td>\n",
              "      <td>0.0</td>\n",
              "      <td>0.0</td>\n",
              "      <td>NaN</td>\n",
              "      <td>NaN</td>\n",
              "      <td>0.0</td>\n",
              "      <td>NaN</td>\n",
              "      <td>NaN</td>\n",
              "      <td>NaN</td>\n",
              "      <td>NaN</td>\n",
              "      <td>NaN</td>\n",
              "      <td>NaN</td>\n",
              "      <td>0.0</td>\n",
              "    </tr>\n",
              "    <tr>\n",
              "      <th>1</th>\n",
              "      <td>0.0</td>\n",
              "      <td>0.0</td>\n",
              "      <td>NaN</td>\n",
              "      <td>0.0</td>\n",
              "      <td>0.0</td>\n",
              "      <td>NaN</td>\n",
              "      <td>0.0</td>\n",
              "      <td>0.0</td>\n",
              "      <td>0.0</td>\n",
              "      <td>0.0</td>\n",
              "      <td>0.0</td>\n",
              "      <td>0.0</td>\n",
              "      <td>0.0</td>\n",
              "      <td>0.0</td>\n",
              "      <td>0.0</td>\n",
              "      <td>NaN</td>\n",
              "      <td>NaN</td>\n",
              "      <td>0.0</td>\n",
              "      <td>NaN</td>\n",
              "      <td>NaN</td>\n",
              "      <td>0.0</td>\n",
              "    </tr>\n",
              "    <tr>\n",
              "      <th>2</th>\n",
              "      <td>0.0</td>\n",
              "      <td>0.0</td>\n",
              "      <td>NaN</td>\n",
              "      <td>0.0</td>\n",
              "      <td>0.0</td>\n",
              "      <td>NaN</td>\n",
              "      <td>0.0</td>\n",
              "      <td>0.0</td>\n",
              "      <td>0.0</td>\n",
              "      <td>0.0</td>\n",
              "      <td>0.0</td>\n",
              "      <td>0.0</td>\n",
              "      <td>0.0</td>\n",
              "      <td>0.0</td>\n",
              "      <td>0.0</td>\n",
              "      <td>NaN</td>\n",
              "      <td>NaN</td>\n",
              "      <td>0.0</td>\n",
              "      <td>NaN</td>\n",
              "      <td>NaN</td>\n",
              "      <td>0.0</td>\n",
              "    </tr>\n",
              "    <tr>\n",
              "      <th>3</th>\n",
              "      <td>0.0</td>\n",
              "      <td>0.0</td>\n",
              "      <td>NaN</td>\n",
              "      <td>0.0</td>\n",
              "      <td>0.0</td>\n",
              "      <td>NaN</td>\n",
              "      <td>0.0</td>\n",
              "      <td>0.0</td>\n",
              "      <td>0.0</td>\n",
              "      <td>0.0</td>\n",
              "      <td>0.0</td>\n",
              "      <td>NaN</td>\n",
              "      <td>0.0</td>\n",
              "      <td>0.0</td>\n",
              "      <td>0.0</td>\n",
              "      <td>NaN</td>\n",
              "      <td>NaN</td>\n",
              "      <td>0.0</td>\n",
              "      <td>NaN</td>\n",
              "      <td>NaN</td>\n",
              "      <td>0.0</td>\n",
              "    </tr>\n",
              "    <tr>\n",
              "      <th>4</th>\n",
              "      <td>0.0</td>\n",
              "      <td>0.0</td>\n",
              "      <td>NaN</td>\n",
              "      <td>0.0</td>\n",
              "      <td>0.0</td>\n",
              "      <td>NaN</td>\n",
              "      <td>0.0</td>\n",
              "      <td>0.0</td>\n",
              "      <td>0.0</td>\n",
              "      <td>0.0</td>\n",
              "      <td>0.0</td>\n",
              "      <td>NaN</td>\n",
              "      <td>0.0</td>\n",
              "      <td>0.0</td>\n",
              "      <td>NaN</td>\n",
              "      <td>NaN</td>\n",
              "      <td>NaN</td>\n",
              "      <td>0.0</td>\n",
              "      <td>NaN</td>\n",
              "      <td>NaN</td>\n",
              "      <td>0.0</td>\n",
              "    </tr>\n",
              "    <tr>\n",
              "      <th>...</th>\n",
              "      <td>...</td>\n",
              "      <td>...</td>\n",
              "      <td>...</td>\n",
              "      <td>...</td>\n",
              "      <td>...</td>\n",
              "      <td>...</td>\n",
              "      <td>...</td>\n",
              "      <td>...</td>\n",
              "      <td>...</td>\n",
              "      <td>...</td>\n",
              "      <td>...</td>\n",
              "      <td>...</td>\n",
              "      <td>...</td>\n",
              "      <td>...</td>\n",
              "      <td>...</td>\n",
              "      <td>...</td>\n",
              "      <td>...</td>\n",
              "      <td>...</td>\n",
              "      <td>...</td>\n",
              "      <td>...</td>\n",
              "      <td>...</td>\n",
              "    </tr>\n",
              "    <tr>\n",
              "      <th>59009</th>\n",
              "      <td>0.0</td>\n",
              "      <td>0.0</td>\n",
              "      <td>NaN</td>\n",
              "      <td>0.0</td>\n",
              "      <td>0.0</td>\n",
              "      <td>NaN</td>\n",
              "      <td>0.0</td>\n",
              "      <td>0.0</td>\n",
              "      <td>NaN</td>\n",
              "      <td>0.0</td>\n",
              "      <td>0.0</td>\n",
              "      <td>0.0</td>\n",
              "      <td>0.0</td>\n",
              "      <td>0.0</td>\n",
              "      <td>0.0</td>\n",
              "      <td>NaN</td>\n",
              "      <td>NaN</td>\n",
              "      <td>0.0</td>\n",
              "      <td>NaN</td>\n",
              "      <td>NaN</td>\n",
              "      <td>0.0</td>\n",
              "    </tr>\n",
              "    <tr>\n",
              "      <th>59010</th>\n",
              "      <td>0.0</td>\n",
              "      <td>0.0</td>\n",
              "      <td>NaN</td>\n",
              "      <td>0.0</td>\n",
              "      <td>0.0</td>\n",
              "      <td>NaN</td>\n",
              "      <td>0.0</td>\n",
              "      <td>0.0</td>\n",
              "      <td>NaN</td>\n",
              "      <td>0.0</td>\n",
              "      <td>0.0</td>\n",
              "      <td>0.0</td>\n",
              "      <td>0.0</td>\n",
              "      <td>0.0</td>\n",
              "      <td>0.0</td>\n",
              "      <td>NaN</td>\n",
              "      <td>NaN</td>\n",
              "      <td>0.0</td>\n",
              "      <td>NaN</td>\n",
              "      <td>NaN</td>\n",
              "      <td>0.0</td>\n",
              "    </tr>\n",
              "    <tr>\n",
              "      <th>59011</th>\n",
              "      <td>0.0</td>\n",
              "      <td>0.0</td>\n",
              "      <td>NaN</td>\n",
              "      <td>0.0</td>\n",
              "      <td>0.0</td>\n",
              "      <td>NaN</td>\n",
              "      <td>0.0</td>\n",
              "      <td>0.0</td>\n",
              "      <td>0.0</td>\n",
              "      <td>0.0</td>\n",
              "      <td>0.0</td>\n",
              "      <td>0.0</td>\n",
              "      <td>0.0</td>\n",
              "      <td>0.0</td>\n",
              "      <td>NaN</td>\n",
              "      <td>NaN</td>\n",
              "      <td>NaN</td>\n",
              "      <td>0.0</td>\n",
              "      <td>NaN</td>\n",
              "      <td>NaN</td>\n",
              "      <td>0.0</td>\n",
              "    </tr>\n",
              "    <tr>\n",
              "      <th>59012</th>\n",
              "      <td>0.0</td>\n",
              "      <td>0.0</td>\n",
              "      <td>NaN</td>\n",
              "      <td>0.0</td>\n",
              "      <td>0.0</td>\n",
              "      <td>NaN</td>\n",
              "      <td>0.0</td>\n",
              "      <td>0.0</td>\n",
              "      <td>0.0</td>\n",
              "      <td>0.0</td>\n",
              "      <td>0.0</td>\n",
              "      <td>0.0</td>\n",
              "      <td>0.0</td>\n",
              "      <td>0.0</td>\n",
              "      <td>NaN</td>\n",
              "      <td>NaN</td>\n",
              "      <td>NaN</td>\n",
              "      <td>0.0</td>\n",
              "      <td>NaN</td>\n",
              "      <td>NaN</td>\n",
              "      <td>0.0</td>\n",
              "    </tr>\n",
              "    <tr>\n",
              "      <th>59013</th>\n",
              "      <td>0.0</td>\n",
              "      <td>0.0</td>\n",
              "      <td>NaN</td>\n",
              "      <td>0.0</td>\n",
              "      <td>0.0</td>\n",
              "      <td>NaN</td>\n",
              "      <td>0.0</td>\n",
              "      <td>0.0</td>\n",
              "      <td>0.0</td>\n",
              "      <td>0.0</td>\n",
              "      <td>0.0</td>\n",
              "      <td>0.0</td>\n",
              "      <td>0.0</td>\n",
              "      <td>0.0</td>\n",
              "      <td>NaN</td>\n",
              "      <td>NaN</td>\n",
              "      <td>NaN</td>\n",
              "      <td>0.0</td>\n",
              "      <td>NaN</td>\n",
              "      <td>NaN</td>\n",
              "      <td>0.0</td>\n",
              "    </tr>\n",
              "  </tbody>\n",
              "</table>\n",
              "<p>59014 rows × 21 columns</p>\n",
              "</div>"
            ],
            "text/plain": [
              "       Sender  Class  IsCopy  ...  IsTask  IsSent  ReceiverUser\n",
              "0         0.0    0.0     NaN  ...     NaN     NaN           0.0\n",
              "1         0.0    0.0     NaN  ...     NaN     NaN           0.0\n",
              "2         0.0    0.0     NaN  ...     NaN     NaN           0.0\n",
              "3         0.0    0.0     NaN  ...     NaN     NaN           0.0\n",
              "4         0.0    0.0     NaN  ...     NaN     NaN           0.0\n",
              "...       ...    ...     ...  ...     ...     ...           ...\n",
              "59009     0.0    0.0     NaN  ...     NaN     NaN           0.0\n",
              "59010     0.0    0.0     NaN  ...     NaN     NaN           0.0\n",
              "59011     0.0    0.0     NaN  ...     NaN     NaN           0.0\n",
              "59012     0.0    0.0     NaN  ...     NaN     NaN           0.0\n",
              "59013     0.0    0.0     NaN  ...     NaN     NaN           0.0\n",
              "\n",
              "[59014 rows x 21 columns]"
            ]
          },
          "metadata": {
            "tags": []
          },
          "execution_count": 40
        }
      ]
    },
    {
      "cell_type": "code",
      "metadata": {
        "id": "24765b86"
      },
      "source": [
        "#df.dropna()"
      ],
      "id": "24765b86",
      "execution_count": 41,
      "outputs": []
    },
    {
      "cell_type": "code",
      "metadata": {
        "colab": {
          "base_uri": "https://localhost:8080/",
          "height": 1000
        },
        "id": "8f9ec893",
        "outputId": "71615300-bc09-499d-a4f0-14b5ac7f01a1"
      },
      "source": [
        "corr = df.corr()\n",
        "cmap = sns.diverging_palette(220, 10, as_cmap=True)\n",
        "# Generate a mask for the upper triangle\n",
        "mask = np.zeros_like(corr, dtype=np.bool)\n",
        "mask[np.triu_indices_from(mask)] = True\n",
        "\n",
        "# Set up the matplotlib figure\n",
        "f, ax = plt.subplots(figsize=(40, 20))\n",
        "# Draw the heatmap with the mask and correct aspect ratio\n",
        "sns.heatmap(corr, mask=mask, cmap=cmap, vmax=.3, center=0,annot = True,\n",
        "            square=True, linewidths=.5, cbar_kws={\"shrink\": .5});"
      ],
      "id": "8f9ec893",
      "execution_count": 42,
      "outputs": [
        {
          "output_type": "display_data",
          "data": {
            "image/png": "[encoded data removed]",
            "text/plain": [
              "<Figure size 2880x1440 with 2 Axes>"
            ]
          },
          "metadata": {
            "tags": [],
            "needs_background": "light"
          }
        }
      ]
    },
    {
      "cell_type": "code",
      "metadata": {
        "id": "fdd5942e"
      },
      "source": [
        "df=df.drop(columns=['WaitTime2','IsCopy'])"
      ],
      "id": "fdd5942e",
      "execution_count": 43,
      "outputs": []
    },
    {
      "cell_type": "code",
      "metadata": {
        "colab": {
          "base_uri": "https://localhost:8080/",
          "height": 439
        },
        "id": "2411c5cb",
        "outputId": "c31a156f-9b7e-4dc8-c7ea-e74bd37bb1d8"
      },
      "source": [
        "df.head(100)"
      ],
      "id": "2411c5cb",
      "execution_count": 44,
      "outputs": [
        {
          "output_type": "execute_result",
          "data": {
            "text/html": [
              "<div>\n",
              "<style scoped>\n",
              "    .dataframe tbody tr th:only-of-type {\n",
              "        vertical-align: middle;\n",
              "    }\n",
              "\n",
              "    .dataframe tbody tr th {\n",
              "        vertical-align: top;\n",
              "    }\n",
              "\n",
              "    .dataframe thead th {\n",
              "        text-align: right;\n",
              "    }\n",
              "</style>\n",
              "<table border=\"1\" class=\"dataframe\">\n",
              "  <thead>\n",
              "    <tr style=\"text-align: right;\">\n",
              "      <th></th>\n",
              "      <th>Sender</th>\n",
              "      <th>Class</th>\n",
              "      <th>NodeType</th>\n",
              "      <th>LevelNo</th>\n",
              "      <th>IsPrivate</th>\n",
              "      <th>Time</th>\n",
              "      <th>SenderWorkgroup</th>\n",
              "      <th>SenderPost</th>\n",
              "      <th>WaitTime1</th>\n",
              "      <th>HasAttachment</th>\n",
              "      <th>OwnerUser</th>\n",
              "      <th>OwnerWorkgroup</th>\n",
              "      <th>IsOwner</th>\n",
              "      <th>HasBody</th>\n",
              "      <th>IsCopied</th>\n",
              "      <th>HasCustomDisplayName</th>\n",
              "      <th>IsTask</th>\n",
              "      <th>IsSent</th>\n",
              "      <th>ReceiverUser</th>\n",
              "    </tr>\n",
              "  </thead>\n",
              "  <tbody>\n",
              "    <tr>\n",
              "      <th>0</th>\n",
              "      <td>1</td>\n",
              "      <td>21</td>\n",
              "      <td>2</td>\n",
              "      <td>3</td>\n",
              "      <td>0</td>\n",
              "      <td>16</td>\n",
              "      <td>12</td>\n",
              "      <td>2.0</td>\n",
              "      <td>42.0</td>\n",
              "      <td>0</td>\n",
              "      <td>0</td>\n",
              "      <td>1</td>\n",
              "      <td>0</td>\n",
              "      <td>0</td>\n",
              "      <td>0</td>\n",
              "      <td>0</td>\n",
              "      <td>0</td>\n",
              "      <td>0</td>\n",
              "      <td>1</td>\n",
              "    </tr>\n",
              "    <tr>\n",
              "      <th>1</th>\n",
              "      <td>2</td>\n",
              "      <td>3</td>\n",
              "      <td>2</td>\n",
              "      <td>2</td>\n",
              "      <td>0</td>\n",
              "      <td>15</td>\n",
              "      <td>12</td>\n",
              "      <td>2.0</td>\n",
              "      <td>1.0</td>\n",
              "      <td>1</td>\n",
              "      <td>117</td>\n",
              "      <td>12</td>\n",
              "      <td>1</td>\n",
              "      <td>0</td>\n",
              "      <td>0</td>\n",
              "      <td>1</td>\n",
              "      <td>0</td>\n",
              "      <td>0</td>\n",
              "      <td>2</td>\n",
              "    </tr>\n",
              "    <tr>\n",
              "      <th>2</th>\n",
              "      <td>2</td>\n",
              "      <td>6</td>\n",
              "      <td>2</td>\n",
              "      <td>2</td>\n",
              "      <td>0</td>\n",
              "      <td>10</td>\n",
              "      <td>12</td>\n",
              "      <td>2.0</td>\n",
              "      <td>1.0</td>\n",
              "      <td>1</td>\n",
              "      <td>117</td>\n",
              "      <td>12</td>\n",
              "      <td>1</td>\n",
              "      <td>0</td>\n",
              "      <td>0</td>\n",
              "      <td>1</td>\n",
              "      <td>0</td>\n",
              "      <td>0</td>\n",
              "      <td>2</td>\n",
              "    </tr>\n",
              "    <tr>\n",
              "      <th>3</th>\n",
              "      <td>2</td>\n",
              "      <td>6</td>\n",
              "      <td>2</td>\n",
              "      <td>2</td>\n",
              "      <td>0</td>\n",
              "      <td>15</td>\n",
              "      <td>12</td>\n",
              "      <td>2.0</td>\n",
              "      <td>2.0</td>\n",
              "      <td>0</td>\n",
              "      <td>117</td>\n",
              "      <td>12</td>\n",
              "      <td>1</td>\n",
              "      <td>0</td>\n",
              "      <td>0</td>\n",
              "      <td>1</td>\n",
              "      <td>0</td>\n",
              "      <td>0</td>\n",
              "      <td>2</td>\n",
              "    </tr>\n",
              "    <tr>\n",
              "      <th>4</th>\n",
              "      <td>2</td>\n",
              "      <td>6</td>\n",
              "      <td>2</td>\n",
              "      <td>3</td>\n",
              "      <td>0</td>\n",
              "      <td>14</td>\n",
              "      <td>12</td>\n",
              "      <td>2.0</td>\n",
              "      <td>12.0</td>\n",
              "      <td>0</td>\n",
              "      <td>1</td>\n",
              "      <td>12</td>\n",
              "      <td>0</td>\n",
              "      <td>0</td>\n",
              "      <td>0</td>\n",
              "      <td>1</td>\n",
              "      <td>0</td>\n",
              "      <td>0</td>\n",
              "      <td>2</td>\n",
              "    </tr>\n",
              "    <tr>\n",
              "      <th>...</th>\n",
              "      <td>...</td>\n",
              "      <td>...</td>\n",
              "      <td>...</td>\n",
              "      <td>...</td>\n",
              "      <td>...</td>\n",
              "      <td>...</td>\n",
              "      <td>...</td>\n",
              "      <td>...</td>\n",
              "      <td>...</td>\n",
              "      <td>...</td>\n",
              "      <td>...</td>\n",
              "      <td>...</td>\n",
              "      <td>...</td>\n",
              "      <td>...</td>\n",
              "      <td>...</td>\n",
              "      <td>...</td>\n",
              "      <td>...</td>\n",
              "      <td>...</td>\n",
              "      <td>...</td>\n",
              "    </tr>\n",
              "    <tr>\n",
              "      <th>95</th>\n",
              "      <td>9</td>\n",
              "      <td>3</td>\n",
              "      <td>2</td>\n",
              "      <td>2</td>\n",
              "      <td>0</td>\n",
              "      <td>15</td>\n",
              "      <td>12</td>\n",
              "      <td>17.0</td>\n",
              "      <td>40.0</td>\n",
              "      <td>1</td>\n",
              "      <td>66</td>\n",
              "      <td>12</td>\n",
              "      <td>1</td>\n",
              "      <td>0</td>\n",
              "      <td>0</td>\n",
              "      <td>1</td>\n",
              "      <td>0</td>\n",
              "      <td>0</td>\n",
              "      <td>9</td>\n",
              "    </tr>\n",
              "    <tr>\n",
              "      <th>96</th>\n",
              "      <td>10</td>\n",
              "      <td>3</td>\n",
              "      <td>2</td>\n",
              "      <td>2</td>\n",
              "      <td>0</td>\n",
              "      <td>11</td>\n",
              "      <td>10</td>\n",
              "      <td>11.0</td>\n",
              "      <td>3.0</td>\n",
              "      <td>1</td>\n",
              "      <td>100</td>\n",
              "      <td>11</td>\n",
              "      <td>1</td>\n",
              "      <td>1</td>\n",
              "      <td>0</td>\n",
              "      <td>1</td>\n",
              "      <td>0</td>\n",
              "      <td>0</td>\n",
              "      <td>10</td>\n",
              "    </tr>\n",
              "    <tr>\n",
              "      <th>97</th>\n",
              "      <td>11</td>\n",
              "      <td>3</td>\n",
              "      <td>2</td>\n",
              "      <td>2</td>\n",
              "      <td>0</td>\n",
              "      <td>9</td>\n",
              "      <td>9</td>\n",
              "      <td>22.0</td>\n",
              "      <td>2.0</td>\n",
              "      <td>0</td>\n",
              "      <td>94</td>\n",
              "      <td>9</td>\n",
              "      <td>1</td>\n",
              "      <td>1</td>\n",
              "      <td>1</td>\n",
              "      <td>1</td>\n",
              "      <td>0</td>\n",
              "      <td>0</td>\n",
              "      <td>11</td>\n",
              "    </tr>\n",
              "    <tr>\n",
              "      <th>98</th>\n",
              "      <td>11</td>\n",
              "      <td>6</td>\n",
              "      <td>2</td>\n",
              "      <td>2</td>\n",
              "      <td>0</td>\n",
              "      <td>13</td>\n",
              "      <td>4</td>\n",
              "      <td>16.0</td>\n",
              "      <td>4.0</td>\n",
              "      <td>0</td>\n",
              "      <td>117</td>\n",
              "      <td>4</td>\n",
              "      <td>1</td>\n",
              "      <td>1</td>\n",
              "      <td>0</td>\n",
              "      <td>1</td>\n",
              "      <td>0</td>\n",
              "      <td>0</td>\n",
              "      <td>11</td>\n",
              "    </tr>\n",
              "    <tr>\n",
              "      <th>99</th>\n",
              "      <td>14</td>\n",
              "      <td>3</td>\n",
              "      <td>2</td>\n",
              "      <td>2</td>\n",
              "      <td>0</td>\n",
              "      <td>10</td>\n",
              "      <td>10</td>\n",
              "      <td>11.0</td>\n",
              "      <td>5.0</td>\n",
              "      <td>0</td>\n",
              "      <td>100</td>\n",
              "      <td>11</td>\n",
              "      <td>1</td>\n",
              "      <td>1</td>\n",
              "      <td>0</td>\n",
              "      <td>0</td>\n",
              "      <td>0</td>\n",
              "      <td>0</td>\n",
              "      <td>14</td>\n",
              "    </tr>\n",
              "  </tbody>\n",
              "</table>\n",
              "<p>100 rows × 19 columns</p>\n",
              "</div>"
            ],
            "text/plain": [
              "    Sender  Class  NodeType  ...  IsTask  IsSent  ReceiverUser\n",
              "0        1     21         2  ...       0       0             1\n",
              "1        2      3         2  ...       0       0             2\n",
              "2        2      6         2  ...       0       0             2\n",
              "3        2      6         2  ...       0       0             2\n",
              "4        2      6         2  ...       0       0             2\n",
              "..     ...    ...       ...  ...     ...     ...           ...\n",
              "95       9      3         2  ...       0       0             9\n",
              "96      10      3         2  ...       0       0            10\n",
              "97      11      3         2  ...       0       0            11\n",
              "98      11      6         2  ...       0       0            11\n",
              "99      14      3         2  ...       0       0            14\n",
              "\n",
              "[100 rows x 19 columns]"
            ]
          },
          "metadata": {
            "tags": []
          },
          "execution_count": 44
        }
      ]
    },
    {
      "cell_type": "code",
      "metadata": {
        "colab": {
          "base_uri": "https://localhost:8080/"
        },
        "id": "fbec9a89",
        "outputId": "d6142a0e-a8f1-4237-acd6-80666a7e767d"
      },
      "source": [
        "len(df.ReceiverUser.unique())"
      ],
      "id": "fbec9a89",
      "execution_count": 45,
      "outputs": [
        {
          "output_type": "execute_result",
          "data": {
            "text/plain": [
              "146"
            ]
          },
          "metadata": {
            "tags": []
          },
          "execution_count": 45
        }
      ]
    },
    {
      "cell_type": "code",
      "metadata": {
        "colab": {
          "base_uri": "https://localhost:8080/"
        },
        "id": "7kPebWEyliB2",
        "outputId": "bf3afab0-2f42-4051-9a32-893e61e44dc6"
      },
      "source": [
        "df.ReceiverUser.unique()"
      ],
      "id": "7kPebWEyliB2",
      "execution_count": 46,
      "outputs": [
        {
          "output_type": "execute_result",
          "data": {
            "text/plain": [
              "array([  1,   2,   4,   6,   8,  10,  11,  13,  15,  17,  18,  20,  21,\n",
              "        22,  23,  25,  26,  27,  29,  30,   0,   3,   7,   9,  12,  24,\n",
              "        14,  16,  19,  28,  31,  33,  37,  38,  39,  32,  34,  35,  40,\n",
              "        45,   5,  36,  46,  47,  48,  41,  42,  49,  50,  51,  52,  53,\n",
              "        54,  55,  56,  57,  58,  59,  60,  61,  62,  43,  63,  64,  65,\n",
              "        44,  66,  67,  68,  69,  70,  71,  74,  75,  77,  78,  72,  73,\n",
              "        76,  79,  80,  82,  81,  83,  84,  85,  87,  88,  86,  89,  90,\n",
              "        91,  92,  93,  94,  95,  96,  97,  98,  99, 101, 103, 104, 105,\n",
              "       106, 107, 108, 110, 100, 111, 109, 112, 113, 114, 115, 116, 117,\n",
              "       118, 119, 120, 121, 122, 123, 124, 126, 127, 129, 131, 132, 133,\n",
              "       134, 135, 136, 137, 138, 102, 125, 128, 139, 140, 141, 142, 143,\n",
              "       144, 145, 130])"
            ]
          },
          "metadata": {
            "tags": []
          },
          "execution_count": 46
        }
      ]
    },
    {
      "cell_type": "code",
      "metadata": {
        "colab": {
          "base_uri": "https://localhost:8080/"
        },
        "id": "DxNS86bWk_Lb",
        "outputId": "74e3b564-6bf3-4468-c335-62aa85b364f8"
      },
      "source": [
        "len(np.where(df.ReceiverUser==2))"
      ],
      "id": "DxNS86bWk_Lb",
      "execution_count": 47,
      "outputs": [
        {
          "output_type": "execute_result",
          "data": {
            "text/plain": [
              "1"
            ]
          },
          "metadata": {
            "tags": []
          },
          "execution_count": 47
        }
      ]
    },
    {
      "cell_type": "code",
      "metadata": {
        "colab": {
          "base_uri": "https://localhost:8080/"
        },
        "id": "g2p1Nk2nlN8n",
        "outputId": "0c0e5753-1f1e-4678-d47e-bb3ab732aed6"
      },
      "source": [
        "np.where(df.ReceiverUser==2)"
      ],
      "id": "g2p1Nk2nlN8n",
      "execution_count": 48,
      "outputs": [
        {
          "output_type": "execute_result",
          "data": {
            "text/plain": [
              "(array([  1,   2,   3,   4,   5,   6,   7,  44,  45,  46,  47,  48,  49,\n",
              "         50,  51,  52,  53,  83,  84,  85,  86, 124, 125, 126, 127, 128,\n",
              "        129, 166, 167, 168, 169, 170, 207, 251, 252, 253, 254, 255, 256,\n",
              "        257, 258, 289, 290, 291, 292, 293, 294, 295, 296]),)"
            ]
          },
          "metadata": {
            "tags": []
          },
          "execution_count": 48
        }
      ]
    },
    {
      "cell_type": "code",
      "metadata": {
        "colab": {
          "base_uri": "https://localhost:8080/"
        },
        "id": "QAfjHCPAm5_6",
        "outputId": "62d887bf-aef1-415e-ea85-625015ab1e9f"
      },
      "source": [
        "df.ReceiverUser.unique()"
      ],
      "id": "QAfjHCPAm5_6",
      "execution_count": 49,
      "outputs": [
        {
          "output_type": "execute_result",
          "data": {
            "text/plain": [
              "array([  1,   2,   4,   6,   8,  10,  11,  13,  15,  17,  18,  20,  21,\n",
              "        22,  23,  25,  26,  27,  29,  30,   0,   3,   7,   9,  12,  24,\n",
              "        14,  16,  19,  28,  31,  33,  37,  38,  39,  32,  34,  35,  40,\n",
              "        45,   5,  36,  46,  47,  48,  41,  42,  49,  50,  51,  52,  53,\n",
              "        54,  55,  56,  57,  58,  59,  60,  61,  62,  43,  63,  64,  65,\n",
              "        44,  66,  67,  68,  69,  70,  71,  74,  75,  77,  78,  72,  73,\n",
              "        76,  79,  80,  82,  81,  83,  84,  85,  87,  88,  86,  89,  90,\n",
              "        91,  92,  93,  94,  95,  96,  97,  98,  99, 101, 103, 104, 105,\n",
              "       106, 107, 108, 110, 100, 111, 109, 112, 113, 114, 115, 116, 117,\n",
              "       118, 119, 120, 121, 122, 123, 124, 126, 127, 129, 131, 132, 133,\n",
              "       134, 135, 136, 137, 138, 102, 125, 128, 139, 140, 141, 142, 143,\n",
              "       144, 145, 130])"
            ]
          },
          "metadata": {
            "tags": []
          },
          "execution_count": 49
        }
      ]
    },
    {
      "cell_type": "code",
      "metadata": {
        "colab": {
          "base_uri": "https://localhost:8080/"
        },
        "id": "ejw8LHgnmgB8",
        "outputId": "05396169-61f9-4acc-fbde-1075098049c1"
      },
      "source": [
        "df['ReceiverUser'].value_counts()"
      ],
      "id": "ejw8LHgnmgB8",
      "execution_count": 50,
      "outputs": [
        {
          "output_type": "execute_result",
          "data": {
            "text/plain": [
              "58     10869\n",
              "121     5715\n",
              "82      4521\n",
              "138     3373\n",
              "83      3209\n",
              "       ...  \n",
              "76         2\n",
              "122        2\n",
              "73         1\n",
              "102        1\n",
              "81         1\n",
              "Name: ReceiverUser, Length: 146, dtype: int64"
            ]
          },
          "metadata": {
            "tags": []
          },
          "execution_count": 50
        }
      ]
    },
    {
      "cell_type": "markdown",
      "metadata": {
        "id": "E43BG9eOw6cn"
      },
      "source": [
        "# **drop classes with count<10**"
      ],
      "id": "E43BG9eOw6cn"
    },
    {
      "cell_type": "code",
      "metadata": {
        "id": "QWjis-tnslgM"
      },
      "source": [
        "a=np.where(df['ReceiverUser'].value_counts()<10)"
      ],
      "id": "QWjis-tnslgM",
      "execution_count": 51,
      "outputs": []
    },
    {
      "cell_type": "code",
      "metadata": {
        "colab": {
          "base_uri": "https://localhost:8080/"
        },
        "id": "QPf2QtlUvTjX",
        "outputId": "45811e41-4124-459f-bf2a-07e484580f26"
      },
      "source": [
        "type(a)"
      ],
      "id": "QPf2QtlUvTjX",
      "execution_count": 52,
      "outputs": [
        {
          "output_type": "execute_result",
          "data": {
            "text/plain": [
              "tuple"
            ]
          },
          "metadata": {
            "tags": []
          },
          "execution_count": 52
        }
      ]
    },
    {
      "cell_type": "code",
      "metadata": {
        "colab": {
          "base_uri": "https://localhost:8080/"
        },
        "id": "Q1vxg0RCvZSx",
        "outputId": "638ae99f-476b-46dd-8224-5dd6a548d3e0"
      },
      "source": [
        "a[0]"
      ],
      "id": "Q1vxg0RCvZSx",
      "execution_count": 53,
      "outputs": [
        {
          "output_type": "execute_result",
          "data": {
            "text/plain": [
              "array([100, 101, 102, 103, 104, 105, 106, 107, 108, 109, 110, 111, 112,\n",
              "       113, 114, 115, 116, 117, 118, 119, 120, 121, 122, 123, 124, 125,\n",
              "       126, 127, 128, 129, 130, 131, 132, 133, 134, 135, 136, 137, 138,\n",
              "       139, 140, 141, 142, 143, 144, 145])"
            ]
          },
          "metadata": {
            "tags": []
          },
          "execution_count": 53
        }
      ]
    },
    {
      "cell_type": "code",
      "metadata": {
        "colab": {
          "base_uri": "https://localhost:8080/"
        },
        "id": "fGbUbw_RzqOg",
        "outputId": "ca1f02a8-3deb-4530-8b02-d64ed2bf3341"
      },
      "source": [
        "len(a[0])"
      ],
      "id": "fGbUbw_RzqOg",
      "execution_count": 54,
      "outputs": [
        {
          "output_type": "execute_result",
          "data": {
            "text/plain": [
              "46"
            ]
          },
          "metadata": {
            "tags": []
          },
          "execution_count": 54
        }
      ]
    },
    {
      "cell_type": "code",
      "metadata": {
        "id": "2xT7spZLwbt5"
      },
      "source": [
        "df=df.drop(a[0])"
      ],
      "id": "2xT7spZLwbt5",
      "execution_count": 55,
      "outputs": []
    },
    {
      "cell_type": "code",
      "metadata": {
        "id": "6j29Dekfl_JM"
      },
      "source": [
        ""
      ],
      "id": "6j29Dekfl_JM",
      "execution_count": 55,
      "outputs": []
    },
    {
      "cell_type": "code",
      "metadata": {
        "id": "01OpdzbOjEBa"
      },
      "source": [
        ""
      ],
      "id": "01OpdzbOjEBa",
      "execution_count": 55,
      "outputs": []
    },
    {
      "cell_type": "code",
      "metadata": {
        "colab": {
          "base_uri": "https://localhost:8080/"
        },
        "id": "a3b1f7bd",
        "outputId": "6e6da492-e41e-40e1-fb4b-5783d6ccbde7"
      },
      "source": [
        "len(df)"
      ],
      "id": "a3b1f7bd",
      "execution_count": 56,
      "outputs": [
        {
          "output_type": "execute_result",
          "data": {
            "text/plain": [
              "58968"
            ]
          },
          "metadata": {
            "tags": []
          },
          "execution_count": 56
        }
      ]
    },
    {
      "cell_type": "code",
      "metadata": {
        "id": "b251f523"
      },
      "source": [
        "df.fillna(df.mean(), inplace=True)"
      ],
      "id": "b251f523",
      "execution_count": 57,
      "outputs": []
    },
    {
      "cell_type": "markdown",
      "metadata": {
        "id": "bWeDHnR1xHiu"
      },
      "source": [
        "# **seperate labels and features**"
      ],
      "id": "bWeDHnR1xHiu"
    },
    {
      "cell_type": "code",
      "metadata": {
        "id": "d4743a7d"
      },
      "source": [
        "X=df.iloc[:,0:18].values\n",
        "Y=df.iloc[:,18].values"
      ],
      "id": "d4743a7d",
      "execution_count": 58,
      "outputs": []
    },
    {
      "cell_type": "code",
      "metadata": {
        "colab": {
          "base_uri": "https://localhost:8080/"
        },
        "id": "b037239a",
        "outputId": "ebff164d-ff47-42a9-b82b-cca299c3658b"
      },
      "source": [
        "#X.head()\n",
        "Y[0:5]"
      ],
      "id": "b037239a",
      "execution_count": 59,
      "outputs": [
        {
          "output_type": "execute_result",
          "data": {
            "text/plain": [
              "array([1, 2, 2, 2, 2])"
            ]
          },
          "metadata": {
            "tags": []
          },
          "execution_count": 59
        }
      ]
    },
    {
      "cell_type": "code",
      "metadata": {
        "id": "88857703"
      },
      "source": [
        "#Y.head()"
      ],
      "id": "88857703",
      "execution_count": 60,
      "outputs": []
    },
    {
      "cell_type": "code",
      "metadata": {
        "id": "fb45d942"
      },
      "source": [
        "from keras.callbacks import ModelCheckpoint, EarlyStopping\n",
        "\n",
        "# Splitting the dataset into the Training set and Test set\n",
        "from sklearn.model_selection import train_test_split\n",
        "x_train, x_test, y_train, y_test = train_test_split(X, Y, test_size = 0.25)"
      ],
      "id": "fb45d942",
      "execution_count": 61,
      "outputs": []
    },
    {
      "cell_type": "code",
      "metadata": {
        "id": "3597e9aa"
      },
      "source": [
        "#x_train.dropna"
      ],
      "id": "3597e9aa",
      "execution_count": 62,
      "outputs": []
    },
    {
      "cell_type": "markdown",
      "metadata": {
        "id": "ZJ8-ctpZxPxP"
      },
      "source": [
        "# **NAIVE BAYES CLASSIFIER**"
      ],
      "id": "ZJ8-ctpZxPxP"
    },
    {
      "cell_type": "code",
      "metadata": {
        "id": "49a7872a"
      },
      "source": [
        "#Import Gaussian Naive Bayes model\n",
        "from sklearn.naive_bayes import GaussianNB\n",
        "\n",
        "#Create a Gaussian Classifier\n",
        "gnb = GaussianNB()\n",
        "\n",
        "#Train the model using the training sets\n",
        "gnb.fit(x_train,y_train)\n",
        "\n",
        "#Predict the response for test dataset\n",
        "y_pred = gnb.predict(x_test)"
      ],
      "id": "49a7872a",
      "execution_count": 63,
      "outputs": []
    },
    {
      "cell_type": "code",
      "metadata": {
        "colab": {
          "base_uri": "https://localhost:8080/"
        },
        "id": "357707b0",
        "outputId": "324a4d27-699d-4246-ed76-58d062c8e1af"
      },
      "source": [
        "#Import scikit-learn metrics module for accuracy calculation\n",
        "from sklearn import metrics\n",
        "from sklearn.metrics import accuracy_score, recall_score, precision_score\n",
        "from sklearn.tree import DecisionTreeClassifier\n",
        "\n",
        "# Model Accuracy, how often is the classifier correct?\n",
        "print(\"Accuracy:\",metrics.accuracy_score(y_test, y_pred))\n",
        "#print (\"Recall Score (how much of malignant tumours were predicted correctly) : \",recall_score(y_holdout, y_pred) )\n",
        "#print (\"Precision Score (how much of tumours, which were predicted as 'malignant', were actually 'malignant'): \",precision_score(y_holdout, y_pred))"
      ],
      "id": "357707b0",
      "execution_count": 64,
      "outputs": [
        {
          "output_type": "stream",
          "text": [
            "Accuracy: 0.6462488129154795\n"
          ],
          "name": "stdout"
        }
      ]
    },
    {
      "cell_type": "markdown",
      "metadata": {
        "id": "ZsybCRZoxbHD"
      },
      "source": [
        "# **TREE_GRID ALGORITHM**"
      ],
      "id": "ZsybCRZoxbHD"
    },
    {
      "cell_type": "code",
      "metadata": {
        "colab": {
          "base_uri": "https://localhost:8080/"
        },
        "id": "99ed9866",
        "outputId": "4ac7a75d-622d-4539-d64b-23850ec0ffda"
      },
      "source": [
        "#X_train, X_holdout, y_train, y_holdout = train_test_split(X, Y, test_size=0.3, random_state=17)\n",
        "from sklearn.model_selection import GridSearchCV\n",
        "\n",
        "tree = DecisionTreeClassifier(random_state=17)\n",
        "\n",
        "tree_params = {'max_depth': range(1,5), 'max_features': range(3,15), 'criterion': ['gini','entropy']}\n",
        "\n",
        "tree_grid = GridSearchCV(tree, tree_params, cv=10)\n",
        "tree_grid.fit(x_train, y_train)"
      ],
      "id": "99ed9866",
      "execution_count": 65,
      "outputs": [
        {
          "output_type": "stream",
          "text": [
            "/usr/local/lib/python3.7/dist-packages/sklearn/model_selection/_split.py:667: UserWarning: The least populated class in y has only 1 members, which is less than n_splits=10.\n",
            "  % (min_groups, self.n_splits)), UserWarning)\n"
          ],
          "name": "stderr"
        },
        {
          "output_type": "execute_result",
          "data": {
            "text/plain": [
              "GridSearchCV(cv=10, error_score=nan,\n",
              "             estimator=DecisionTreeClassifier(ccp_alpha=0.0, class_weight=None,\n",
              "                                              criterion='gini', max_depth=None,\n",
              "                                              max_features=None,\n",
              "                                              max_leaf_nodes=None,\n",
              "                                              min_impurity_decrease=0.0,\n",
              "                                              min_impurity_split=None,\n",
              "                                              min_samples_leaf=1,\n",
              "                                              min_samples_split=2,\n",
              "                                              min_weight_fraction_leaf=0.0,\n",
              "                                              presort='deprecated',\n",
              "                                              random_state=17,\n",
              "                                              splitter='best'),\n",
              "             iid='deprecated', n_jobs=None,\n",
              "             param_grid={'criterion': ['gini', 'entropy'],\n",
              "                         'max_depth': range(1, 5),\n",
              "                         'max_features': range(3, 15)},\n",
              "             pre_dispatch='2*n_jobs', refit=True, return_train_score=False,\n",
              "             scoring=None, verbose=0)"
            ]
          },
          "metadata": {
            "tags": []
          },
          "execution_count": 65
        }
      ]
    },
    {
      "cell_type": "code",
      "metadata": {
        "colab": {
          "base_uri": "https://localhost:8080/"
        },
        "id": "0642b679",
        "outputId": "68994708-9d89-46d4-c6a7-d8e36814a816"
      },
      "source": [
        "#Best Parameters\n",
        "tree_grid.best_params_, tree_grid.best_score_"
      ],
      "id": "0642b679",
      "execution_count": 66,
      "outputs": [
        {
          "output_type": "execute_result",
          "data": {
            "text/plain": [
              "({'criterion': 'entropy', 'max_depth': 4, 'max_features': 14},\n",
              " 0.7238731373449486)"
            ]
          },
          "metadata": {
            "tags": []
          },
          "execution_count": 66
        }
      ]
    },
    {
      "cell_type": "code",
      "metadata": {
        "id": "4WpxqwFMZARs"
      },
      "source": [
        ""
      ],
      "id": "4WpxqwFMZARs",
      "execution_count": 66,
      "outputs": []
    },
    {
      "cell_type": "code",
      "metadata": {
        "id": "kvFhUJGLZAdS"
      },
      "source": [
        ""
      ],
      "id": "kvFhUJGLZAdS",
      "execution_count": 66,
      "outputs": []
    },
    {
      "cell_type": "code",
      "metadata": {
        "id": "aL7lD7HTTtjD"
      },
      "source": [
        "y_pred=tree_grid.predict(x_test)"
      ],
      "id": "aL7lD7HTTtjD",
      "execution_count": 67,
      "outputs": []
    },
    {
      "cell_type": "code",
      "metadata": {
        "colab": {
          "base_uri": "https://localhost:8080/"
        },
        "id": "XGJ_6WJicZs2",
        "outputId": "762c8b69-c4e8-4736-836a-948d5164eb48"
      },
      "source": [
        "y_pred[0:50]"
      ],
      "id": "XGJ_6WJicZs2",
      "execution_count": 68,
      "outputs": [
        {
          "output_type": "execute_result",
          "data": {
            "text/plain": [
              "array([119,  54, 142,  58,  58,  58,  58, 124,  83, 121, 138,  54, 113,\n",
              "       138,  54,  83,  54,  82, 138, 138,  78, 111,  58, 138, 138,  54,\n",
              "       142,  82,  67,  82,  82,  58,  54,  78, 121, 124,  58,  88, 142,\n",
              "       119,  58, 121,  67,  58,  58, 142,  58,  48,  54, 121])"
            ]
          },
          "metadata": {
            "tags": []
          },
          "execution_count": 68
        }
      ]
    },
    {
      "cell_type": "code",
      "metadata": {
        "colab": {
          "base_uri": "https://localhost:8080/"
        },
        "id": "kM13vl0dcd9V",
        "outputId": "a5d844f7-c042-499e-9953-472c6fc6a76b"
      },
      "source": [
        "y_test[0:50]"
      ],
      "id": "kM13vl0dcd9V",
      "execution_count": 69,
      "outputs": [
        {
          "output_type": "execute_result",
          "data": {
            "text/plain": [
              "array([119,  10, 145,  58,  58,  58,  58, 126,  82, 121, 138,  54, 113,\n",
              "       138,  54,  82,  48,  82, 138, 138,  75, 111,  58, 131, 138,  55,\n",
              "       140,  82,  68,  82,  82,  58,  54,  75, 121, 126,  58,  99, 142,\n",
              "       118,  58, 121,  67,  58,  58, 142,  58,  48,  51, 121])"
            ]
          },
          "metadata": {
            "tags": []
          },
          "execution_count": 69
        }
      ]
    },
    {
      "cell_type": "code",
      "metadata": {
        "colab": {
          "base_uri": "https://localhost:8080/"
        },
        "id": "nvKvowDLZBmS",
        "outputId": "4051223b-8553-4116-c047-1997ef4f8a13"
      },
      "source": [
        "from sklearn import metrics\n",
        "#>>> y_pred = [0, 1, 0, 0]\n",
        "#>>> y_true = [0, 1, 0, 1]\n",
        "metrics.precision_score(y_test, y_pred,average='micro')\n",
        "\n",
        "metrics.recall_score(y_test, y_pred,average='micro')\n",
        "\n",
        "metrics.f1_score(y_test, y_pred,average='micro')\n",
        "\n",
        "#metrics.fbeta_score(y_test, y_pred, beta=0.5,average='micro')\n",
        "\n",
        "#metrics.fbeta_score(y_test, y_pred, beta=1,average='micro')\n",
        "\n",
        "#metrics.fbeta_score(y_test, y_pred, beta=2,average='micro')\n",
        "\n",
        "#metrics.precision_recall_fscore_support(y_test, y_pred, beta=0.5,average='micro')"
      ],
      "id": "nvKvowDLZBmS",
      "execution_count": 70,
      "outputs": [
        {
          "output_type": "execute_result",
          "data": {
            "text/plain": [
              "0.7317188983855651"
            ]
          },
          "metadata": {
            "tags": []
          },
          "execution_count": 70
        }
      ]
    },
    {
      "cell_type": "code",
      "metadata": {
        "id": "EtPDt2PVid_s"
      },
      "source": [
        "#y_pred = lr.predict_proba(X_test)[:, 1] > .85"
      ],
      "id": "EtPDt2PVid_s",
      "execution_count": 71,
      "outputs": []
    },
    {
      "cell_type": "code",
      "metadata": {
        "id": "1kaM98XNieEC"
      },
      "source": [
        ""
      ],
      "id": "1kaM98XNieEC",
      "execution_count": 71,
      "outputs": []
    },
    {
      "cell_type": "code",
      "metadata": {
        "id": "0XOZ17IyieHq"
      },
      "source": [
        ""
      ],
      "id": "0XOZ17IyieHq",
      "execution_count": 71,
      "outputs": []
    },
    {
      "cell_type": "code",
      "metadata": {
        "colab": {
          "base_uri": "https://localhost:8080/"
        },
        "id": "FOetB92-ZBrC",
        "outputId": "aa085e46-b5cb-4619-f9e6-c24d9a22f1bf"
      },
      "source": [
        "metrics.fbeta_score(y_test, y_pred, beta=0.5,average='micro')"
      ],
      "id": "FOetB92-ZBrC",
      "execution_count": 72,
      "outputs": [
        {
          "output_type": "execute_result",
          "data": {
            "text/plain": [
              "0.731718898385565"
            ]
          },
          "metadata": {
            "tags": []
          },
          "execution_count": 72
        }
      ]
    },
    {
      "cell_type": "code",
      "metadata": {
        "colab": {
          "base_uri": "https://localhost:8080/"
        },
        "id": "ALkZmyTkbsf3",
        "outputId": "db7290f5-a311-49ee-a4a0-cc0756bf7297"
      },
      "source": [
        "metrics.precision_recall_fscore_support(y_test, y_pred, beta=0.5,average='micro')"
      ],
      "id": "ALkZmyTkbsf3",
      "execution_count": 73,
      "outputs": [
        {
          "output_type": "execute_result",
          "data": {
            "text/plain": [
              "(0.731718898385565, 0.731718898385565, 0.731718898385565, None)"
            ]
          },
          "metadata": {
            "tags": []
          },
          "execution_count": 73
        }
      ]
    },
    {
      "cell_type": "code",
      "metadata": {
        "colab": {
          "base_uri": "https://localhost:8080/"
        },
        "id": "yMy20BV4cHya",
        "outputId": "ca41c2f0-a613-42d7-8bd3-8fa8b40ed558"
      },
      "source": [
        "precision_score(y_test, y_pred, average='weighted')"
      ],
      "id": "yMy20BV4cHya",
      "execution_count": 74,
      "outputs": [
        {
          "output_type": "stream",
          "text": [
            "/usr/local/lib/python3.7/dist-packages/sklearn/metrics/_classification.py:1272: UndefinedMetricWarning: Precision is ill-defined and being set to 0.0 in labels with no predicted samples. Use `zero_division` parameter to control this behavior.\n",
            "  _warn_prf(average, modifier, msg_start, len(result))\n"
          ],
          "name": "stderr"
        },
        {
          "output_type": "execute_result",
          "data": {
            "text/plain": [
              "0.619345415261292"
            ]
          },
          "metadata": {
            "tags": []
          },
          "execution_count": 74
        }
      ]
    },
    {
      "cell_type": "code",
      "metadata": {
        "colab": {
          "base_uri": "https://localhost:8080/"
        },
        "id": "1MEiGLYUcP3K",
        "outputId": "d36bc147-ed5f-4b64-c66f-e7fa5fc8e588"
      },
      "source": [
        "precision_score(y_test, y_pred, average='micro')"
      ],
      "id": "1MEiGLYUcP3K",
      "execution_count": 75,
      "outputs": [
        {
          "output_type": "execute_result",
          "data": {
            "text/plain": [
              "0.731718898385565"
            ]
          },
          "metadata": {
            "tags": []
          },
          "execution_count": 75
        }
      ]
    },
    {
      "cell_type": "code",
      "metadata": {
        "colab": {
          "base_uri": "https://localhost:8080/"
        },
        "id": "MVSZ13oqT0PZ",
        "outputId": "105d5192-7d75-42ea-fb05-f589e89b2f61"
      },
      "source": [
        "y_pred"
      ],
      "id": "MVSZ13oqT0PZ",
      "execution_count": 76,
      "outputs": [
        {
          "output_type": "execute_result",
          "data": {
            "text/plain": [
              "array([119,  54, 142, ..., 113, 111, 142])"
            ]
          },
          "metadata": {
            "tags": []
          },
          "execution_count": 76
        }
      ]
    },
    {
      "cell_type": "code",
      "metadata": {
        "id": "610cc31d"
      },
      "source": [
        "from sklearn.model_selection import StratifiedKFold\n",
        "from sklearn.model_selection import GridSearchCV\n"
      ],
      "id": "610cc31d",
      "execution_count": 77,
      "outputs": []
    },
    {
      "cell_type": "code",
      "metadata": {
        "colab": {
          "base_uri": "https://localhost:8080/",
          "height": 86
        },
        "id": "6e9a41ab",
        "outputId": "12a0b565-7a2f-4b6b-a372-9038e1f8bae0"
      },
      "source": [
        "'''from sklearn.ensemble import RandomForestClassifier\n",
        "\n",
        "#Stratified split for the validation process\n",
        "skf = StratifiedKFold(n_splits=10, shuffle=True, random_state=17)\n",
        "\n",
        "#initialize the set of parameters for exhaustive search and fit to find out the optimal parameters\n",
        "rfc_params = {'max_features': range(1,11), 'min_samples_leaf': range(1,3), 'max_depth': range(3,13), 'criterion':['gini','entropy']}\n",
        "\n",
        "rfc = RandomForestClassifier(n_estimators=100, random_state=17, n_jobs= -1)\n",
        "\n",
        "gcv = GridSearchCV(rfc, rfc_params, n_jobs=-1, cv=skf)\n",
        "gcv.fit(x_train, y_train)'''"
      ],
      "id": "6e9a41ab",
      "execution_count": 78,
      "outputs": [
        {
          "output_type": "execute_result",
          "data": {
            "application/vnd.google.colaboratory.intrinsic+json": {
              "type": "string"
            },
            "text/plain": [
              "\"from sklearn.ensemble import RandomForestClassifier\\n\\n#Stratified split for the validation process\\nskf = StratifiedKFold(n_splits=10, shuffle=True, random_state=17)\\n\\n#initialize the set of parameters for exhaustive search and fit to find out the optimal parameters\\nrfc_params = {'max_features': range(1,11), 'min_samples_leaf': range(1,3), 'max_depth': range(3,13), 'criterion':['gini','entropy']}\\n\\nrfc = RandomForestClassifier(n_estimators=100, random_state=17, n_jobs= -1)\\n\\ngcv = GridSearchCV(rfc, rfc_params, n_jobs=-1, cv=skf)\\ngcv.fit(x_train, y_train)\""
            ]
          },
          "metadata": {
            "tags": []
          },
          "execution_count": 78
        }
      ]
    },
    {
      "cell_type": "code",
      "metadata": {
        "id": "x3HUdgKHO-NV"
      },
      "source": [
        "#Best Parameters\n",
        "#gcv.best_params_, gcv.best_score_"
      ],
      "id": "x3HUdgKHO-NV",
      "execution_count": 79,
      "outputs": []
    },
    {
      "cell_type": "markdown",
      "metadata": {
        "id": "e76d39e2"
      },
      "source": [
        "# **logistic regression algorithm**"
      ],
      "id": "e76d39e2"
    },
    {
      "cell_type": "code",
      "metadata": {
        "colab": {
          "base_uri": "https://localhost:8080/",
          "height": 52
        },
        "id": "bc47aab0",
        "outputId": "18eba827-13b2-435a-b05b-6dda75c5b266"
      },
      "source": [
        "'''# Building and training the model\n",
        "from sklearn.linear_model import LogisticRegression\n",
        "classifier = LogisticRegression()\n",
        "classifier.fit(x_train, y_train)\n",
        " \n",
        "# Predicting the Test set results\n",
        "y_pred = classifier.predict(x_test)'''"
      ],
      "id": "bc47aab0",
      "execution_count": 80,
      "outputs": [
        {
          "output_type": "execute_result",
          "data": {
            "application/vnd.google.colaboratory.intrinsic+json": {
              "type": "string"
            },
            "text/plain": [
              "'# Building and training the model\\nfrom sklearn.linear_model import LogisticRegression\\nclassifier = LogisticRegression()\\nclassifier.fit(x_train, y_train)\\n \\n# Predicting the Test set results\\ny_pred = classifier.predict(x_test)'"
            ]
          },
          "metadata": {
            "tags": []
          },
          "execution_count": 80
        }
      ]
    },
    {
      "cell_type": "code",
      "metadata": {
        "colab": {
          "base_uri": "https://localhost:8080/",
          "height": 52
        },
        "id": "02b48658",
        "outputId": "a67efefb-7a66-4d66-f6f2-6291525103f4"
      },
      "source": [
        "'''from sklearn.metrics import accuracy_score\n",
        "#confidence = classifier.score(y_test, y_pred)\n",
        "print('accuracuy on test data:',confidence)\n",
        "accuracy_score(y_test, y_pred, normalize=False)'''"
      ],
      "id": "02b48658",
      "execution_count": 81,
      "outputs": [
        {
          "output_type": "execute_result",
          "data": {
            "application/vnd.google.colaboratory.intrinsic+json": {
              "type": "string"
            },
            "text/plain": [
              "\"from sklearn.metrics import accuracy_score\\n#confidence = classifier.score(y_test, y_pred)\\nprint('accuracuy on test data:',confidence)\\naccuracy_score(y_test, y_pred, normalize=False)\""
            ]
          },
          "metadata": {
            "tags": []
          },
          "execution_count": 81
        }
      ]
    },
    {
      "cell_type": "markdown",
      "metadata": {
        "id": "4db277f9"
      },
      "source": [
        "# **SVM Algorithm**"
      ],
      "id": "4db277f9"
    },
    {
      "cell_type": "code",
      "metadata": {
        "colab": {
          "base_uri": "https://localhost:8080/",
          "height": 86
        },
        "id": "7cb5d1ea",
        "outputId": "bbce2e1a-fe90-4bb1-9ebe-1afcf7dd9979"
      },
      "source": [
        "'''from sklearn import svm\n",
        "\n",
        "\n",
        "# Building and training the model\n",
        "\n",
        "\n",
        "from sklearn.linear_model import LogisticRegression\n",
        "\n",
        "classifier =svm.SVC(gamma=0.001, C=100)\n",
        "classifier.fit(x_train, y_train)\n",
        " \n",
        "# Predicting the Test set results\n",
        "y_pred = classifier.predict(x_test)\n",
        "confidence = classifier.score(x_test, y_test)\n",
        "print('accuracuy on test data:',confidence)\n",
        "# Making the Confusion Matrix\n",
        "from sklearn.metrics import confusion_matrix\n",
        "cm = confusion_matrix(y_test, y_pred)\n",
        "print(cm)'''"
      ],
      "id": "7cb5d1ea",
      "execution_count": 82,
      "outputs": [
        {
          "output_type": "execute_result",
          "data": {
            "application/vnd.google.colaboratory.intrinsic+json": {
              "type": "string"
            },
            "text/plain": [
              "\"from sklearn import svm\\n\\n\\n# Building and training the model\\n\\n\\nfrom sklearn.linear_model import LogisticRegression\\n\\nclassifier =svm.SVC(gamma=0.001, C=100)\\nclassifier.fit(x_train, y_train)\\n \\n# Predicting the Test set results\\ny_pred = classifier.predict(x_test)\\nconfidence = classifier.score(x_test, y_test)\\nprint('accuracuy on test data:',confidence)\\n# Making the Confusion Matrix\\nfrom sklearn.metrics import confusion_matrix\\ncm = confusion_matrix(y_test, y_pred)\\nprint(cm)\""
            ]
          },
          "metadata": {
            "tags": []
          },
          "execution_count": 82
        }
      ]
    },
    {
      "cell_type": "code",
      "metadata": {
        "id": "06c7ce6f"
      },
      "source": [
        ""
      ],
      "id": "06c7ce6f",
      "execution_count": 82,
      "outputs": []
    },
    {
      "cell_type": "markdown",
      "metadata": {
        "id": "f72507a5"
      },
      "source": [
        "# **KNN Algorithm**"
      ],
      "id": "f72507a5"
    },
    {
      "cell_type": "code",
      "metadata": {
        "colab": {
          "base_uri": "https://localhost:8080/"
        },
        "id": "f195dddf",
        "outputId": "bb0b6909-5e62-4a07-c348-90d82f6eb27a"
      },
      "source": [
        "from sklearn.neighbors import KNeighborsClassifier\n",
        "classifier = KNeighborsClassifier(n_neighbors=5)\n",
        "\n",
        "classifier.fit(x_train, y_train)\n",
        " \n",
        "# Predicting the Test set results\n",
        "y_pred = classifier.predict(x_test)\n",
        "confidence = classifier.score(x_test, y_test)\n",
        "print('accuracuy on test data:',confidence)\n",
        "# Making the Confusion Matrix\n",
        "from sklearn.metrics import confusion_matrix\n",
        "#cm = confusion_matrix(y_test, y_pred)\n",
        "#print(cm)"
      ],
      "id": "f195dddf",
      "execution_count": 83,
      "outputs": [
        {
          "output_type": "stream",
          "text": [
            "accuracuy on test data: 0.6363451363451363\n"
          ],
          "name": "stdout"
        }
      ]
    },
    {
      "cell_type": "code",
      "metadata": {
        "id": "5534249a"
      },
      "source": [
        "import numpy as np\n",
        "from sklearn.decomposition import PCA"
      ],
      "id": "5534249a",
      "execution_count": 84,
      "outputs": []
    },
    {
      "cell_type": "code",
      "metadata": {
        "colab": {
          "base_uri": "https://localhost:8080/",
          "height": 35
        },
        "id": "de742b34",
        "outputId": "39dc5cc3-d780-494c-d3a7-2d1fe70dca9f"
      },
      "source": [
        "'''pca = PCA(n_components=2)\n",
        "x_train=pca.fit(x_train)'''\n"
      ],
      "id": "de742b34",
      "execution_count": 85,
      "outputs": [
        {
          "output_type": "execute_result",
          "data": {
            "application/vnd.google.colaboratory.intrinsic+json": {
              "type": "string"
            },
            "text/plain": [
              "'pca = PCA(n_components=2)\\nx_train=pca.fit(x_train)'"
            ]
          },
          "metadata": {
            "tags": []
          },
          "execution_count": 85
        }
      ]
    },
    {
      "cell_type": "code",
      "metadata": {
        "colab": {
          "base_uri": "https://localhost:8080/"
        },
        "id": "r2rXMrntRFIh",
        "outputId": "62588e1d-8e47-4c3b-d547-eba441599236"
      },
      "source": [
        "type(x_train)"
      ],
      "id": "r2rXMrntRFIh",
      "execution_count": 86,
      "outputs": [
        {
          "output_type": "execute_result",
          "data": {
            "text/plain": [
              "numpy.ndarray"
            ]
          },
          "metadata": {
            "tags": []
          },
          "execution_count": 86
        }
      ]
    },
    {
      "cell_type": "code",
      "metadata": {
        "colab": {
          "base_uri": "https://localhost:8080/",
          "height": 69
        },
        "id": "f37b59bc",
        "outputId": "31e644fb-3d90-46a5-e04a-09efa113eb67"
      },
      "source": [
        "'''from sklearn.neighbors import KNeighborsClassifier\n",
        "classifier = KNeighborsClassifier(n_neighbors=5)\n",
        "\n",
        "classifier.fit(x_train, y_train)\n",
        " \n",
        "# Predicting the Test set results\n",
        "y_pred = classifier.predict(x_test)\n",
        "confidence = classifier.score(x_test, y_test)\n",
        "print('accuracuy on test data:',confidence)\n",
        "# Making the Confusion Matrix\n",
        "from sklearn.metrics import confusion_matrix\n",
        "#cm = confusion_matrix(y_test, y_pred)\n",
        "#print(cm)'''"
      ],
      "id": "f37b59bc",
      "execution_count": 87,
      "outputs": [
        {
          "output_type": "execute_result",
          "data": {
            "application/vnd.google.colaboratory.intrinsic+json": {
              "type": "string"
            },
            "text/plain": [
              "\"from sklearn.neighbors import KNeighborsClassifier\\nclassifier = KNeighborsClassifier(n_neighbors=5)\\n\\nclassifier.fit(x_train, y_train)\\n \\n# Predicting the Test set results\\ny_pred = classifier.predict(x_test)\\nconfidence = classifier.score(x_test, y_test)\\nprint('accuracuy on test data:',confidence)\\n# Making the Confusion Matrix\\nfrom sklearn.metrics import confusion_matrix\\n#cm = confusion_matrix(y_test, y_pred)\\n#print(cm)\""
            ]
          },
          "metadata": {
            "tags": []
          },
          "execution_count": 87
        }
      ]
    },
    {
      "cell_type": "code",
      "metadata": {
        "colab": {
          "base_uri": "https://localhost:8080/",
          "height": 52
        },
        "id": "nnShKf9oR32-",
        "outputId": "5aff2170-29a9-41c1-84c1-0ff75f431efe"
      },
      "source": [
        "# you can make this a lot easier using Pipeline\n",
        "\n",
        "'''from sklearn.pipeline import Pipeline\n",
        "\n",
        "# fits PCA, transforms data and fits the decision tree classifier\n",
        "# on the transformed data\n",
        "pipe = Pipeline([('pca', PCA()),\n",
        "                 ('tree',  KNeighborsClassifier(n_neighbors=5))])\n",
        "\n",
        "pipe.fit(x_train, y_train)\n",
        "\n",
        "pipe.predict(x_test)'''"
      ],
      "id": "nnShKf9oR32-",
      "execution_count": 88,
      "outputs": [
        {
          "output_type": "execute_result",
          "data": {
            "application/vnd.google.colaboratory.intrinsic+json": {
              "type": "string"
            },
            "text/plain": [
              "\"from sklearn.pipeline import Pipeline\\n\\n# fits PCA, transforms data and fits the decision tree classifier\\n# on the transformed data\\npipe = Pipeline([('pca', PCA()),\\n                 ('tree',  KNeighborsClassifier(n_neighbors=5))])\\n\\npipe.fit(x_train, y_train)\\n\\npipe.predict(x_test)\""
            ]
          },
          "metadata": {
            "tags": []
          },
          "execution_count": 88
        }
      ]
    },
    {
      "cell_type": "markdown",
      "metadata": {
        "id": "VK_aoIfiZnBf"
      },
      "source": [
        "# **decision tree with pca**"
      ],
      "id": "VK_aoIfiZnBf"
    },
    {
      "cell_type": "code",
      "metadata": {
        "colab": {
          "base_uri": "https://localhost:8080/"
        },
        "id": "gedfdBQkUcoY",
        "outputId": "15d6f8bf-edd3-4a32-c93f-439431ebe2b7"
      },
      "source": [
        "from sklearn.decomposition import PCA\n",
        "from sklearn.tree import DecisionTreeClassifier\n",
        "#from sklearn.datasets import load_iris\n",
        "\n",
        "# load data\n",
        "#iris = load_iris()\n",
        "\n",
        "# initiate PCA and classifier\n",
        "pca = PCA(15)\n",
        "classifier = DecisionTreeClassifier(criterion='entropy', max_depth=4, max_features= 14)\n",
        "\n",
        "# transform / fit\n",
        "\n",
        "X_transformed = pca.fit_transform(x_train)\n",
        "classifier.fit(X_transformed,y_train)"
      ],
      "id": "gedfdBQkUcoY",
      "execution_count": 89,
      "outputs": [
        {
          "output_type": "execute_result",
          "data": {
            "text/plain": [
              "DecisionTreeClassifier(ccp_alpha=0.0, class_weight=None, criterion='entropy',\n",
              "                       max_depth=4, max_features=14, max_leaf_nodes=None,\n",
              "                       min_impurity_decrease=0.0, min_impurity_split=None,\n",
              "                       min_samples_leaf=1, min_samples_split=2,\n",
              "                       min_weight_fraction_leaf=0.0, presort='deprecated',\n",
              "                       random_state=None, splitter='best')"
            ]
          },
          "metadata": {
            "tags": []
          },
          "execution_count": 89
        }
      ]
    },
    {
      "cell_type": "code",
      "metadata": {
        "id": "ZiwJ4co7VO8v"
      },
      "source": [
        "X_test_transformed = pca.fit_transform(x_test)"
      ],
      "id": "ZiwJ4co7VO8v",
      "execution_count": 90,
      "outputs": []
    },
    {
      "cell_type": "code",
      "metadata": {
        "colab": {
          "base_uri": "https://localhost:8080/"
        },
        "id": "mO_iE0c-Uc8P",
        "outputId": "9390c02d-63f7-49ed-fa87-2dcced76d099"
      },
      "source": [
        "classifier.score(X_test_transformed,y_test)"
      ],
      "id": "mO_iE0c-Uc8P",
      "execution_count": 91,
      "outputs": [
        {
          "output_type": "execute_result",
          "data": {
            "text/plain": [
              "0.009700176366843033"
            ]
          },
          "metadata": {
            "tags": []
          },
          "execution_count": 91
        }
      ]
    },
    {
      "cell_type": "code",
      "metadata": {
        "colab": {
          "base_uri": "https://localhost:8080/"
        },
        "id": "QjTHehCjTeGe",
        "outputId": "eb5e32f4-82e7-4f8a-b3c7-b6ec4a10d309"
      },
      "source": [
        "classifier.predict(X_test_transformed)"
      ],
      "id": "QjTHehCjTeGe",
      "execution_count": 92,
      "outputs": [
        {
          "output_type": "execute_result",
          "data": {
            "text/plain": [
              "array([ 83, 121,  83, ...,  82,  83,  54])"
            ]
          },
          "metadata": {
            "tags": []
          },
          "execution_count": 92
        }
      ]
    },
    {
      "cell_type": "code",
      "metadata": {
        "id": "qkzC5r1nUS2m"
      },
      "source": [
        "x_test1=x_test[0]"
      ],
      "id": "qkzC5r1nUS2m",
      "execution_count": 93,
      "outputs": []
    },
    {
      "cell_type": "code",
      "metadata": {
        "id": "JxPcKpuHU2XN"
      },
      "source": [
        "x_test1=x_test1[0:15]"
      ],
      "id": "JxPcKpuHU2XN",
      "execution_count": 94,
      "outputs": []
    },
    {
      "cell_type": "code",
      "metadata": {
        "id": "pU25hFSvUf0j"
      },
      "source": [
        "#X_test1_transformed = pca.fit_transform(x_test1.reshape(1,-1))"
      ],
      "id": "pU25hFSvUf0j",
      "execution_count": 95,
      "outputs": []
    },
    {
      "cell_type": "code",
      "metadata": {
        "colab": {
          "base_uri": "https://localhost:8080/"
        },
        "id": "YhbpUdsHVBt3",
        "outputId": "289ed57a-91a7-43ba-8fe1-f5ff9723e538"
      },
      "source": [
        "classifier.predict(x_test1.reshape(1,-1))"
      ],
      "id": "YhbpUdsHVBt3",
      "execution_count": 96,
      "outputs": [
        {
          "output_type": "execute_result",
          "data": {
            "text/plain": [
              "array([111])"
            ]
          },
          "metadata": {
            "tags": []
          },
          "execution_count": 96
        }
      ]
    },
    {
      "cell_type": "code",
      "metadata": {
        "id": "idi7HMiFWtyT"
      },
      "source": [
        ""
      ],
      "id": "idi7HMiFWtyT",
      "execution_count": 96,
      "outputs": []
    },
    {
      "cell_type": "code",
      "metadata": {
        "colab": {
          "base_uri": "https://localhost:8080/",
          "height": 52
        },
        "id": "iWGG6aV1Vn3R",
        "outputId": "ad6af1ed-aca6-4635-a4eb-a85ab251ba54"
      },
      "source": [
        "'''from sklearn.model_selection import GridSearchCV\n",
        "\n",
        "tree = DecisionTreeClassifier(random_state=17)\n",
        "\n",
        "tree_params = {'max_depth': range(1,5), 'max_features': range(3,15), 'criterion': ['gini','entropy']}\n",
        "\n",
        "tree_grid = GridSearchCV(tree, tree_params, cv=10)\n",
        "tree_grid.fit(X_transformed, y_train)'''"
      ],
      "id": "iWGG6aV1Vn3R",
      "execution_count": 97,
      "outputs": [
        {
          "output_type": "execute_result",
          "data": {
            "application/vnd.google.colaboratory.intrinsic+json": {
              "type": "string"
            },
            "text/plain": [
              "\"from sklearn.model_selection import GridSearchCV\\n\\ntree = DecisionTreeClassifier(random_state=17)\\n\\ntree_params = {'max_depth': range(1,5), 'max_features': range(3,15), 'criterion': ['gini','entropy']}\\n\\ntree_grid = GridSearchCV(tree, tree_params, cv=10)\\ntree_grid.fit(X_transformed, y_train)\""
            ]
          },
          "metadata": {
            "tags": []
          },
          "execution_count": 97
        }
      ]
    },
    {
      "cell_type": "markdown",
      "metadata": {
        "id": "Pplt5GK3yOwx"
      },
      "source": [
        "# **xgboost model**"
      ],
      "id": "Pplt5GK3yOwx"
    },
    {
      "cell_type": "code",
      "metadata": {
        "id": "B1twyXcMyppC"
      },
      "source": [
        "from sklearn.datasets import make_hastie_10_2\n",
        "from sklearn.ensemble import GradientBoostingClassifier"
      ],
      "id": "B1twyXcMyppC",
      "execution_count": 98,
      "outputs": []
    },
    {
      "cell_type": "code",
      "metadata": {
        "colab": {
          "base_uri": "https://localhost:8080/",
          "height": 86
        },
        "id": "f9bYmffmVn9e",
        "outputId": "c9522642-520e-46c3-99d0-0213eafbfab4"
      },
      "source": [
        "'''from sklearn.neighbors import KNeighborsClassifier\n",
        "classifier = GradientBoostingClassifier(n_estimators=50, learning_rate=1.0,\n",
        "     max_depth=4, random_state=0)\n",
        "#>>> clf.score(X_test, y_test)\n",
        "\n",
        "classifier.fit(x_train, y_train)\n",
        " \n",
        "# Predicting the Test set results\n",
        "y_pred = classifier.predict(x_test)\n",
        "confidence = classifier.score(x_test, y_test)\n",
        "print('accuracuy on test data:',confidence)\n",
        "# Making the Confusion Matrix\n",
        "from sklearn.metrics import confusion_matrix\n",
        "#cm = confusion_matrix(y_test, y_pred)\n",
        "#print(cm)'''"
      ],
      "id": "f9bYmffmVn9e",
      "execution_count": 99,
      "outputs": [
        {
          "output_type": "execute_result",
          "data": {
            "application/vnd.google.colaboratory.intrinsic+json": {
              "type": "string"
            },
            "text/plain": [
              "\"from sklearn.neighbors import KNeighborsClassifier\\nclassifier = GradientBoostingClassifier(n_estimators=50, learning_rate=1.0,\\n     max_depth=4, random_state=0)\\n#>>> clf.score(X_test, y_test)\\n\\nclassifier.fit(x_train, y_train)\\n \\n# Predicting the Test set results\\ny_pred = classifier.predict(x_test)\\nconfidence = classifier.score(x_test, y_test)\\nprint('accuracuy on test data:',confidence)\\n# Making the Confusion Matrix\\nfrom sklearn.metrics import confusion_matrix\\n#cm = confusion_matrix(y_test, y_pred)\\n#print(cm)\""
            ]
          },
          "metadata": {
            "tags": []
          },
          "execution_count": 99
        }
      ]
    },
    {
      "cell_type": "code",
      "metadata": {
        "colab": {
          "base_uri": "https://localhost:8080/",
          "height": 52
        },
        "id": "QI9fSdIE36Gv",
        "outputId": "065d65e2-62bc-457c-cc5c-dbc203375bcd"
      },
      "source": [
        "'''from sklearn.neural_network import MLPClassifier\n",
        "Clf = MLPClassifier(solver='lbfgs', alpha=1e-5,\n",
        "                   hidden_layer_sizes=(15,), random_state=1)\n",
        "\n",
        "Clf.fit(x_train, y_train)\n",
        "MLPClassifier(alpha=1e-05, hidden_layer_sizes=(15,), random_state=1,\n",
        "              solver='lbfgs')'''"
      ],
      "id": "QI9fSdIE36Gv",
      "execution_count": 100,
      "outputs": [
        {
          "output_type": "execute_result",
          "data": {
            "application/vnd.google.colaboratory.intrinsic+json": {
              "type": "string"
            },
            "text/plain": [
              "\"from sklearn.neural_network import MLPClassifier\\nClf = MLPClassifier(solver='lbfgs', alpha=1e-5,\\n                   hidden_layer_sizes=(15,), random_state=1)\\n\\nClf.fit(x_train, y_train)\\nMLPClassifier(alpha=1e-05, hidden_layer_sizes=(15,), random_state=1,\\n              solver='lbfgs')\""
            ]
          },
          "metadata": {
            "tags": []
          },
          "execution_count": 100
        }
      ]
    },
    {
      "cell_type": "code",
      "metadata": {
        "colab": {
          "base_uri": "https://localhost:8080/",
          "height": 35
        },
        "id": "46pgzLSg36Mc",
        "outputId": "f45ff304-cb06-4619-b1a4-89631c3bf68b"
      },
      "source": [
        "'''Clf.score(x_test,y_test)'''"
      ],
      "id": "46pgzLSg36Mc",
      "execution_count": 101,
      "outputs": [
        {
          "output_type": "execute_result",
          "data": {
            "application/vnd.google.colaboratory.intrinsic+json": {
              "type": "string"
            },
            "text/plain": [
              "'Clf.score(x_test,y_test)'"
            ]
          },
          "metadata": {
            "tags": []
          },
          "execution_count": 101
        }
      ]
    },
    {
      "cell_type": "markdown",
      "metadata": {
        "id": "p-2dDb3q6jb1"
      },
      "source": [
        "# **classification with deeplearning**"
      ],
      "id": "p-2dDb3q6jb1"
    },
    {
      "cell_type": "code",
      "metadata": {
        "colab": {
          "base_uri": "https://localhost:8080/"
        },
        "id": "nFWkWkB17IVL",
        "outputId": "a5212a7b-ffde-4508-c5d1-65e942d8b8cb"
      },
      "source": [
        "x_train.shape"
      ],
      "id": "nFWkWkB17IVL",
      "execution_count": 102,
      "outputs": [
        {
          "output_type": "execute_result",
          "data": {
            "text/plain": [
              "(44226, 18)"
            ]
          },
          "metadata": {
            "tags": []
          },
          "execution_count": 102
        }
      ]
    },
    {
      "cell_type": "code",
      "metadata": {
        "id": "gDxsGtbH-JmA"
      },
      "source": [
        ""
      ],
      "id": "gDxsGtbH-JmA",
      "execution_count": 102,
      "outputs": []
    },
    {
      "cell_type": "code",
      "metadata": {
        "colab": {
          "base_uri": "https://localhost:8080/"
        },
        "id": "pkUKXKAK7RDw",
        "outputId": "7c8fe8ad-b7cd-4d85-ee8c-614bbb02bab7"
      },
      "source": [
        "y_train.shape"
      ],
      "id": "pkUKXKAK7RDw",
      "execution_count": 103,
      "outputs": [
        {
          "output_type": "execute_result",
          "data": {
            "text/plain": [
              "(44226,)"
            ]
          },
          "metadata": {
            "tags": []
          },
          "execution_count": 103
        }
      ]
    },
    {
      "cell_type": "code",
      "metadata": {
        "id": "GAnrvMtV9Ime"
      },
      "source": [
        "#y_train.reshape(1,-1)"
      ],
      "id": "GAnrvMtV9Ime",
      "execution_count": 104,
      "outputs": []
    },
    {
      "cell_type": "code",
      "metadata": {
        "id": "j3eCuWS09Qgo"
      },
      "source": [
        "#y_train.shape"
      ],
      "id": "j3eCuWS09Qgo",
      "execution_count": 105,
      "outputs": []
    },
    {
      "cell_type": "code",
      "metadata": {
        "id": "OtjFx7_x-w_J"
      },
      "source": [
        "#x_train.reshape(44260,18,1)"
      ],
      "id": "OtjFx7_x-w_J",
      "execution_count": 106,
      "outputs": []
    },
    {
      "cell_type": "code",
      "metadata": {
        "id": "u1Sn5Rv-IZrB"
      },
      "source": [
        "#num_labels = len(np.unique(y_train))"
      ],
      "id": "u1Sn5Rv-IZrB",
      "execution_count": 107,
      "outputs": []
    },
    {
      "cell_type": "code",
      "metadata": {
        "colab": {
          "base_uri": "https://localhost:8080/",
          "height": 52
        },
        "id": "f_QA-R5aJxVS",
        "outputId": "96bf5d16-a36b-4394-c781-fcc8b5e5d87d"
      },
      "source": [
        "'''#converter em one-hot\n",
        "from tensorflow.keras.utils import to_categorical\n",
        "y_train = to_categorical(y_train, dtype='int')\n",
        "y_test = to_categorical(y_test, dtype='int')'''"
      ],
      "id": "f_QA-R5aJxVS",
      "execution_count": 108,
      "outputs": [
        {
          "output_type": "execute_result",
          "data": {
            "application/vnd.google.colaboratory.intrinsic+json": {
              "type": "string"
            },
            "text/plain": [
              "\"#converter em one-hot\\nfrom tensorflow.keras.utils import to_categorical\\ny_train = to_categorical(y_train, dtype='int')\\ny_test = to_categorical(y_test, dtype='int')\""
            ]
          },
          "metadata": {
            "tags": []
          },
          "execution_count": 108
        }
      ]
    },
    {
      "cell_type": "code",
      "metadata": {
        "colab": {
          "base_uri": "https://localhost:8080/"
        },
        "id": "ws9SfKz9d_sp",
        "outputId": "50fd3718-6659-4674-ab9e-e2a42fbc06af"
      },
      "source": [
        "y_train"
      ],
      "id": "ws9SfKz9d_sp",
      "execution_count": 109,
      "outputs": [
        {
          "output_type": "execute_result",
          "data": {
            "text/plain": [
              "array([ 48, 138,  58, ...,  58,  83,  58])"
            ]
          },
          "metadata": {
            "tags": []
          },
          "execution_count": 109
        }
      ]
    },
    {
      "cell_type": "code",
      "metadata": {
        "colab": {
          "base_uri": "https://localhost:8080/"
        },
        "id": "TGTO1Dw9Whdk",
        "outputId": "98c66b6b-bd25-4f28-bd49-0d9deaf9bf4d"
      },
      "source": [
        "# use mlp for prediction on multi-label classification\n",
        "from numpy import asarray\n",
        "from sklearn.datasets import make_multilabel_classification\n",
        "from keras.models import Sequential\n",
        "from keras.layers import Dense\n",
        "from keras.layers import Dense, Activation, Flatten,Dropout\n",
        "import tensorflow as tf\n",
        "# get the dataset\n",
        "'''def get_dataset():\n",
        "\tX, y = make_multilabel_classification(n_samples=1000, n_features=10, n_classes=3, n_labels=2, random_state=1)\n",
        "\treturn X, y'''\n",
        " \n",
        "# get the model\n",
        "def get_model(n_inputs, n_outputs):\n",
        "  model = Sequential()\n",
        "  model.add(Dense(100, input_dim = n_inputs, activation = 'relu'))\n",
        "  model.add(Dense(256, activation = 'relu'))\n",
        "  model.add(Dropout(0.2))\n",
        "  model.add(Dense(156, activation = 'relu'))\n",
        "  #model.add(Dropout(0.2))\n",
        "  #model.add(Dense(256, activation = 'relu'))\n",
        "  model.add(Flatten())\n",
        "  model.add(Dense(n_outputs, activation = 'sigmoid'))\n",
        "  return model\n",
        "\t\n",
        "    \n",
        " \n",
        "'''# load dataset\n",
        "X, y = get_dataset()\n",
        "n_inputs, n_outputs = X.shape[1], y.shape[1]'''\n",
        "# get model\n",
        "model = get_model(18,146 )\n",
        "#model.compile(loss='categorical_crossentropy', optimizer='adam', metrics=['accuracy'])\n",
        "model.compile( loss=tf.keras.losses.SparseCategoricalCrossentropy(from_logits=True), optimizer='adam', metrics=['accuracy'])\n",
        "# fit the model on all data\n",
        "model.fit(x_train, y_train, verbose=2, epochs=150, batch_size=128)\n",
        "# make a prediction for new data\n",
        "#row = [3, 3, 6, 7, 8, 2, 11, 11, 1, 3]\n",
        "#newX = asarray([row])\n",
        "#yhat = model.predict(newX)\n",
        "#print('Predicted: %s' % yhat[0])"
      ],
      "id": "TGTO1Dw9Whdk",
      "execution_count": 110,
      "outputs": [
        {
          "output_type": "stream",
          "text": [
            "Epoch 1/150\n"
          ],
          "name": "stdout"
        },
        {
          "output_type": "stream",
          "text": [
            "/usr/local/lib/python3.7/dist-packages/tensorflow/python/keras/backend.py:4930: UserWarning: \"`sparse_categorical_crossentropy` received `from_logits=True`, but the `output` argument was produced by a sigmoid or softmax activation and thus does not represent logits. Was this intended?\"\n",
            "  '\"`sparse_categorical_crossentropy` received `from_logits=True`, but '\n"
          ],
          "name": "stderr"
        },
        {
          "output_type": "stream",
          "text": [
            "346/346 - 13s - loss: 92.7180 - accuracy: 0.2432\n",
            "Epoch 2/150\n",
            "346/346 - 1s - loss: 3.3488 - accuracy: 0.3408\n",
            "Epoch 3/150\n",
            "346/346 - 1s - loss: 2.9851 - accuracy: 0.3724\n",
            "Epoch 4/150\n",
            "346/346 - 1s - loss: 2.6548 - accuracy: 0.3959\n",
            "Epoch 5/150\n",
            "346/346 - 1s - loss: 2.4764 - accuracy: 0.4125\n",
            "Epoch 6/150\n",
            "346/346 - 1s - loss: 2.3500 - accuracy: 0.4237\n",
            "Epoch 7/150\n",
            "346/346 - 1s - loss: 2.2234 - accuracy: 0.4399\n",
            "Epoch 8/150\n",
            "346/346 - 1s - loss: 2.1686 - accuracy: 0.4475\n",
            "Epoch 9/150\n",
            "346/346 - 1s - loss: 2.0888 - accuracy: 0.4598\n",
            "Epoch 10/150\n",
            "346/346 - 1s - loss: 2.0221 - accuracy: 0.4714\n",
            "Epoch 11/150\n",
            "346/346 - 1s - loss: 2.1907 - accuracy: 0.4644\n",
            "Epoch 12/150\n",
            "346/346 - 1s - loss: 2.0538 - accuracy: 0.4719\n",
            "Epoch 13/150\n",
            "346/346 - 1s - loss: 1.9740 - accuracy: 0.4810\n",
            "Epoch 14/150\n",
            "346/346 - 1s - loss: 1.9150 - accuracy: 0.4912\n",
            "Epoch 15/150\n",
            "346/346 - 1s - loss: 1.8776 - accuracy: 0.4999\n",
            "Epoch 16/150\n",
            "346/346 - 1s - loss: 1.8852 - accuracy: 0.4984\n",
            "Epoch 17/150\n",
            "346/346 - 1s - loss: 1.9175 - accuracy: 0.5032\n",
            "Epoch 18/150\n",
            "346/346 - 1s - loss: 1.9052 - accuracy: 0.4997\n",
            "Epoch 19/150\n",
            "346/346 - 1s - loss: 1.8389 - accuracy: 0.5112\n",
            "Epoch 20/150\n",
            "346/346 - 1s - loss: 1.8366 - accuracy: 0.5143\n",
            "Epoch 21/150\n",
            "346/346 - 1s - loss: 1.7888 - accuracy: 0.5208\n",
            "Epoch 22/150\n",
            "346/346 - 1s - loss: 1.7708 - accuracy: 0.5240\n",
            "Epoch 23/150\n",
            "346/346 - 1s - loss: 1.7540 - accuracy: 0.5291\n",
            "Epoch 24/150\n",
            "346/346 - 1s - loss: 1.7372 - accuracy: 0.5349\n",
            "Epoch 25/150\n",
            "346/346 - 1s - loss: 1.8184 - accuracy: 0.5232\n",
            "Epoch 26/150\n",
            "346/346 - 1s - loss: 1.7780 - accuracy: 0.5273\n",
            "Epoch 27/150\n",
            "346/346 - 1s - loss: 1.7563 - accuracy: 0.5327\n",
            "Epoch 28/150\n",
            "346/346 - 1s - loss: 1.7325 - accuracy: 0.5370\n",
            "Epoch 29/150\n",
            "346/346 - 1s - loss: 2.6382 - accuracy: 0.5101\n",
            "Epoch 30/150\n",
            "346/346 - 1s - loss: 1.8077 - accuracy: 0.5223\n",
            "Epoch 31/150\n",
            "346/346 - 1s - loss: 1.9898 - accuracy: 0.5286\n",
            "Epoch 32/150\n",
            "346/346 - 1s - loss: 1.7751 - accuracy: 0.5359\n",
            "Epoch 33/150\n",
            "346/346 - 1s - loss: 1.9498 - accuracy: 0.5334\n",
            "Epoch 34/150\n",
            "346/346 - 1s - loss: 1.7080 - accuracy: 0.5405\n",
            "Epoch 35/150\n",
            "346/346 - 1s - loss: 1.6792 - accuracy: 0.5484\n",
            "Epoch 36/150\n",
            "346/346 - 1s - loss: 1.6598 - accuracy: 0.5523\n",
            "Epoch 37/150\n",
            "346/346 - 1s - loss: 1.6361 - accuracy: 0.5609\n",
            "Epoch 38/150\n",
            "346/346 - 1s - loss: 1.6337 - accuracy: 0.5603\n",
            "Epoch 39/150\n",
            "346/346 - 1s - loss: 1.6253 - accuracy: 0.5645\n",
            "Epoch 40/150\n",
            "346/346 - 1s - loss: 1.6191 - accuracy: 0.5628\n",
            "Epoch 41/150\n",
            "346/346 - 1s - loss: 1.5998 - accuracy: 0.5726\n",
            "Epoch 42/150\n",
            "346/346 - 1s - loss: 1.5988 - accuracy: 0.5710\n",
            "Epoch 43/150\n",
            "346/346 - 1s - loss: 1.7438 - accuracy: 0.5696\n",
            "Epoch 44/150\n",
            "346/346 - 1s - loss: 1.5959 - accuracy: 0.5734\n",
            "Epoch 45/150\n",
            "346/346 - 1s - loss: 1.5741 - accuracy: 0.5777\n",
            "Epoch 46/150\n",
            "346/346 - 1s - loss: 1.5628 - accuracy: 0.5813\n",
            "Epoch 47/150\n",
            "346/346 - 1s - loss: 1.5291 - accuracy: 0.5863\n",
            "Epoch 48/150\n",
            "346/346 - 1s - loss: 1.4668 - accuracy: 0.6019\n",
            "Epoch 49/150\n",
            "346/346 - 1s - loss: 1.4853 - accuracy: 0.5977\n",
            "Epoch 50/150\n",
            "346/346 - 1s - loss: 1.4778 - accuracy: 0.6041\n",
            "Epoch 51/150\n",
            "346/346 - 1s - loss: 1.6374 - accuracy: 0.6036\n",
            "Epoch 52/150\n",
            "346/346 - 1s - loss: 1.9573 - accuracy: 0.5323\n",
            "Epoch 53/150\n",
            "346/346 - 1s - loss: 1.6834 - accuracy: 0.5495\n",
            "Epoch 54/150\n",
            "346/346 - 1s - loss: 1.6345 - accuracy: 0.5611\n",
            "Epoch 55/150\n",
            "346/346 - 1s - loss: 1.5861 - accuracy: 0.5701\n",
            "Epoch 56/150\n",
            "346/346 - 1s - loss: 1.5506 - accuracy: 0.5793\n",
            "Epoch 57/150\n",
            "346/346 - 1s - loss: 1.4824 - accuracy: 0.5947\n",
            "Epoch 58/150\n",
            "346/346 - 1s - loss: 1.4397 - accuracy: 0.6067\n",
            "Epoch 59/150\n",
            "346/346 - 1s - loss: 1.4119 - accuracy: 0.6122\n",
            "Epoch 60/150\n",
            "346/346 - 1s - loss: 1.3807 - accuracy: 0.6188\n",
            "Epoch 61/150\n",
            "346/346 - 1s - loss: 1.3711 - accuracy: 0.6208\n",
            "Epoch 62/150\n",
            "346/346 - 1s - loss: 1.3603 - accuracy: 0.6246\n",
            "Epoch 63/150\n",
            "346/346 - 1s - loss: 1.3263 - accuracy: 0.6320\n",
            "Epoch 64/150\n",
            "346/346 - 1s - loss: 1.2983 - accuracy: 0.6397\n",
            "Epoch 65/150\n",
            "346/346 - 1s - loss: 1.2821 - accuracy: 0.6437\n",
            "Epoch 66/150\n",
            "346/346 - 1s - loss: 1.2637 - accuracy: 0.6462\n",
            "Epoch 67/150\n",
            "346/346 - 1s - loss: 1.2527 - accuracy: 0.6473\n",
            "Epoch 68/150\n",
            "346/346 - 1s - loss: 1.2188 - accuracy: 0.6563\n",
            "Epoch 69/150\n",
            "346/346 - 1s - loss: 1.1971 - accuracy: 0.6611\n",
            "Epoch 70/150\n",
            "346/346 - 1s - loss: 1.1555 - accuracy: 0.6684\n",
            "Epoch 71/150\n",
            "346/346 - 1s - loss: 1.1427 - accuracy: 0.6729\n",
            "Epoch 72/150\n",
            "346/346 - 1s - loss: 1.1171 - accuracy: 0.6786\n",
            "Epoch 73/150\n",
            "346/346 - 1s - loss: 1.3375 - accuracy: 0.6423\n",
            "Epoch 74/150\n",
            "346/346 - 1s - loss: 1.3104 - accuracy: 0.6304\n",
            "Epoch 75/150\n",
            "346/346 - 1s - loss: 1.1866 - accuracy: 0.6620\n",
            "Epoch 76/150\n",
            "346/346 - 1s - loss: 1.1304 - accuracy: 0.6753\n",
            "Epoch 77/150\n",
            "346/346 - 1s - loss: 1.0764 - accuracy: 0.6887\n",
            "Epoch 78/150\n",
            "346/346 - 1s - loss: 1.0754 - accuracy: 0.6898\n",
            "Epoch 79/150\n",
            "346/346 - 1s - loss: 1.0378 - accuracy: 0.6951\n",
            "Epoch 80/150\n",
            "346/346 - 1s - loss: 1.0638 - accuracy: 0.6900\n",
            "Epoch 81/150\n",
            "346/346 - 1s - loss: 1.0911 - accuracy: 0.6845\n",
            "Epoch 82/150\n",
            "346/346 - 1s - loss: 1.0209 - accuracy: 0.7011\n",
            "Epoch 83/150\n",
            "346/346 - 1s - loss: 1.0072 - accuracy: 0.7026\n",
            "Epoch 84/150\n",
            "346/346 - 1s - loss: 1.0378 - accuracy: 0.6973\n",
            "Epoch 85/150\n",
            "346/346 - 1s - loss: 1.0233 - accuracy: 0.7001\n",
            "Epoch 86/150\n",
            "346/346 - 1s - loss: 1.1972 - accuracy: 0.6654\n",
            "Epoch 87/150\n",
            "346/346 - 1s - loss: 1.0378 - accuracy: 0.6966\n",
            "Epoch 88/150\n",
            "346/346 - 1s - loss: 1.0033 - accuracy: 0.7051\n",
            "Epoch 89/150\n",
            "346/346 - 1s - loss: 1.1237 - accuracy: 0.6816\n",
            "Epoch 90/150\n",
            "346/346 - 1s - loss: 1.0280 - accuracy: 0.6972\n",
            "Epoch 91/150\n",
            "346/346 - 1s - loss: 1.0515 - accuracy: 0.6981\n",
            "Epoch 92/150\n",
            "346/346 - 1s - loss: 0.9764 - accuracy: 0.7102\n",
            "Epoch 93/150\n",
            "346/346 - 1s - loss: 0.9958 - accuracy: 0.7055\n",
            "Epoch 94/150\n",
            "346/346 - 1s - loss: 1.1110 - accuracy: 0.6822\n",
            "Epoch 95/150\n",
            "346/346 - 1s - loss: 1.1253 - accuracy: 0.6777\n",
            "Epoch 96/150\n",
            "346/346 - 1s - loss: 1.1782 - accuracy: 0.6702\n",
            "Epoch 97/150\n",
            "346/346 - 1s - loss: 1.0957 - accuracy: 0.6839\n",
            "Epoch 98/150\n",
            "346/346 - 1s - loss: 0.9847 - accuracy: 0.7095\n",
            "Epoch 99/150\n",
            "346/346 - 1s - loss: 0.9492 - accuracy: 0.7147\n",
            "Epoch 100/150\n",
            "346/346 - 1s - loss: 1.6564 - accuracy: 0.6583\n",
            "Epoch 101/150\n",
            "346/346 - 1s - loss: 1.2932 - accuracy: 0.6366\n",
            "Epoch 102/150\n",
            "346/346 - 1s - loss: 1.1926 - accuracy: 0.6587\n",
            "Epoch 103/150\n",
            "346/346 - 1s - loss: 1.1509 - accuracy: 0.6697\n",
            "Epoch 104/150\n",
            "346/346 - 1s - loss: 1.1267 - accuracy: 0.6723\n",
            "Epoch 105/150\n",
            "346/346 - 1s - loss: 1.1140 - accuracy: 0.6781\n",
            "Epoch 106/150\n",
            "346/346 - 1s - loss: 1.1907 - accuracy: 0.6685\n",
            "Epoch 107/150\n",
            "346/346 - 1s - loss: 1.1872 - accuracy: 0.6627\n",
            "Epoch 108/150\n",
            "346/346 - 1s - loss: 1.1052 - accuracy: 0.6835\n",
            "Epoch 109/150\n",
            "346/346 - 1s - loss: 1.0737 - accuracy: 0.6884\n",
            "Epoch 110/150\n",
            "346/346 - 1s - loss: 1.0806 - accuracy: 0.6858\n",
            "Epoch 111/150\n",
            "346/346 - 1s - loss: 1.1040 - accuracy: 0.6821\n",
            "Epoch 112/150\n",
            "346/346 - 1s - loss: 1.0254 - accuracy: 0.6986\n",
            "Epoch 113/150\n",
            "346/346 - 1s - loss: 1.0184 - accuracy: 0.7003\n",
            "Epoch 114/150\n",
            "346/346 - 1s - loss: 0.9973 - accuracy: 0.7055\n",
            "Epoch 115/150\n",
            "346/346 - 1s - loss: 0.9792 - accuracy: 0.7089\n",
            "Epoch 116/150\n",
            "346/346 - 1s - loss: 0.9694 - accuracy: 0.7123\n",
            "Epoch 117/150\n",
            "346/346 - 1s - loss: 0.9577 - accuracy: 0.7124\n",
            "Epoch 118/150\n",
            "346/346 - 1s - loss: 1.0025 - accuracy: 0.7078\n",
            "Epoch 119/150\n",
            "346/346 - 1s - loss: 0.9629 - accuracy: 0.7130\n",
            "Epoch 120/150\n",
            "346/346 - 1s - loss: 0.9360 - accuracy: 0.7188\n",
            "Epoch 121/150\n",
            "346/346 - 1s - loss: 0.9984 - accuracy: 0.7075\n",
            "Epoch 122/150\n",
            "346/346 - 1s - loss: 0.9099 - accuracy: 0.7282\n",
            "Epoch 123/150\n",
            "346/346 - 1s - loss: 1.1106 - accuracy: 0.6932\n",
            "Epoch 124/150\n",
            "346/346 - 1s - loss: 0.9786 - accuracy: 0.7136\n",
            "Epoch 125/150\n",
            "346/346 - 1s - loss: 0.9028 - accuracy: 0.7279\n",
            "Epoch 126/150\n",
            "346/346 - 1s - loss: 0.9162 - accuracy: 0.7284\n",
            "Epoch 127/150\n",
            "346/346 - 1s - loss: 0.9149 - accuracy: 0.7253\n",
            "Epoch 128/150\n",
            "346/346 - 1s - loss: 1.0106 - accuracy: 0.7160\n",
            "Epoch 129/150\n",
            "346/346 - 1s - loss: 1.1301 - accuracy: 0.6781\n",
            "Epoch 130/150\n",
            "346/346 - 1s - loss: 0.9829 - accuracy: 0.7113\n",
            "Epoch 131/150\n",
            "346/346 - 1s - loss: 0.9375 - accuracy: 0.7193\n",
            "Epoch 132/150\n",
            "346/346 - 1s - loss: 0.9446 - accuracy: 0.7211\n",
            "Epoch 133/150\n",
            "346/346 - 1s - loss: 0.9141 - accuracy: 0.7286\n",
            "Epoch 134/150\n",
            "346/346 - 1s - loss: 0.8822 - accuracy: 0.7353\n",
            "Epoch 135/150\n",
            "346/346 - 1s - loss: 1.0845 - accuracy: 0.6988\n",
            "Epoch 136/150\n",
            "346/346 - 1s - loss: 1.1270 - accuracy: 0.6779\n",
            "Epoch 137/150\n",
            "346/346 - 1s - loss: 1.0102 - accuracy: 0.7042\n",
            "Epoch 138/150\n",
            "346/346 - 1s - loss: 0.9647 - accuracy: 0.7126\n",
            "Epoch 139/150\n",
            "346/346 - 1s - loss: 0.9554 - accuracy: 0.7139\n",
            "Epoch 140/150\n",
            "346/346 - 1s - loss: 1.0060 - accuracy: 0.7070\n",
            "Epoch 141/150\n",
            "346/346 - 1s - loss: 0.9963 - accuracy: 0.7097\n",
            "Epoch 142/150\n",
            "346/346 - 1s - loss: 1.3790 - accuracy: 0.6448\n",
            "Epoch 143/150\n",
            "346/346 - 1s - loss: 1.1772 - accuracy: 0.6719\n",
            "Epoch 144/150\n",
            "346/346 - 1s - loss: 1.0578 - accuracy: 0.6940\n",
            "Epoch 145/150\n",
            "346/346 - 1s - loss: 1.0426 - accuracy: 0.7002\n",
            "Epoch 146/150\n",
            "346/346 - 1s - loss: 1.0055 - accuracy: 0.7066\n",
            "Epoch 147/150\n",
            "346/346 - 1s - loss: 1.0246 - accuracy: 0.7046\n",
            "Epoch 148/150\n",
            "346/346 - 1s - loss: 1.0247 - accuracy: 0.7026\n",
            "Epoch 149/150\n",
            "346/346 - 1s - loss: 1.0421 - accuracy: 0.7016\n",
            "Epoch 150/150\n",
            "346/346 - 1s - loss: 0.9482 - accuracy: 0.7201\n"
          ],
          "name": "stdout"
        },
        {
          "output_type": "execute_result",
          "data": {
            "text/plain": [
              "<keras.callbacks.History at 0x7f198414c4d0>"
            ]
          },
          "metadata": {
            "tags": []
          },
          "execution_count": 110
        }
      ]
    },
    {
      "cell_type": "code",
      "metadata": {
        "colab": {
          "base_uri": "https://localhost:8080/"
        },
        "id": "7eZPqbrcWhjs",
        "outputId": "2d83457c-1ac8-49d8-95f0-52c0e4b07e67"
      },
      "source": [
        "_, acc = model.evaluate(x_test,\n",
        "                        y_test,\n",
        "                        batch_size=128,\n",
        "                        verbose=2)\n",
        "print(\"nAccuracy: %.1f%%n\" % (100.0 * acc))"
      ],
      "id": "7eZPqbrcWhjs",
      "execution_count": 111,
      "outputs": [
        {
          "output_type": "stream",
          "text": [
            "/usr/local/lib/python3.7/dist-packages/tensorflow/python/keras/backend.py:4930: UserWarning: \"`sparse_categorical_crossentropy` received `from_logits=True`, but the `output` argument was produced by a sigmoid or softmax activation and thus does not represent logits. Was this intended?\"\n",
            "  '\"`sparse_categorical_crossentropy` received `from_logits=True`, but '\n"
          ],
          "name": "stderr"
        },
        {
          "output_type": "stream",
          "text": [
            "116/116 - 1s - loss: 0.9007 - accuracy: 0.7543\n",
            "nAccuracy: 75.4%n\n"
          ],
          "name": "stdout"
        }
      ]
    },
    {
      "cell_type": "code",
      "metadata": {
        "colab": {
          "base_uri": "https://localhost:8080/"
        },
        "id": "XCu-gxAWoxs_",
        "outputId": "ee41b467-8c52-4b87-c1c0-e554af8ea13d"
      },
      "source": [
        "x_test"
      ],
      "id": "XCu-gxAWoxs_",
      "execution_count": 112,
      "outputs": [
        {
          "output_type": "execute_result",
          "data": {
            "text/plain": [
              "array([[119.,   9.,   1., ...,   1.,   1.,   0.],\n",
              "       [ 10.,   3.,   2., ...,   1.,   0.,   0.],\n",
              "       [145.,   9.,   1., ...,   1.,   1.,   0.],\n",
              "       ...,\n",
              "       [113.,   4.,   2., ...,   1.,   0.,   0.],\n",
              "       [111.,   9.,   1., ...,   1.,   1.,   0.],\n",
              "       [142.,   9.,   1., ...,   1.,   1.,   0.]])"
            ]
          },
          "metadata": {
            "tags": []
          },
          "execution_count": 112
        }
      ]
    },
    {
      "cell_type": "code",
      "metadata": {
        "colab": {
          "base_uri": "https://localhost:8080/"
        },
        "id": "VVDbRBmKo5AT",
        "outputId": "48041560-e2e7-4156-ac63-c704d6b2de51"
      },
      "source": [
        "y_test"
      ],
      "id": "VVDbRBmKo5AT",
      "execution_count": 113,
      "outputs": [
        {
          "output_type": "execute_result",
          "data": {
            "text/plain": [
              "array([119,  10, 145, ..., 113, 111, 142])"
            ]
          },
          "metadata": {
            "tags": []
          },
          "execution_count": 113
        }
      ]
    },
    {
      "cell_type": "code",
      "metadata": {
        "colab": {
          "base_uri": "https://localhost:8080/"
        },
        "id": "BGenOG9ndyy-",
        "outputId": "00a1f4e7-6e08-46c5-d7ff-adfcc3f6397d"
      },
      "source": [
        "model.predict(x_test)"
      ],
      "id": "BGenOG9ndyy-",
      "execution_count": 114,
      "outputs": [
        {
          "output_type": "execute_result",
          "data": {
            "text/plain": [
              "array([[0.0000000e+00, 0.0000000e+00, 0.0000000e+00, ..., 2.6770685e-22,\n",
              "        1.2016636e-25, 3.5966262e-20],\n",
              "       [3.8235357e-01, 7.0866799e-01, 7.0479351e-01, ..., 7.6284642e-31,\n",
              "        4.2023823e-19, 1.2552402e-27],\n",
              "       [0.0000000e+00, 0.0000000e+00, 0.0000000e+00, ..., 1.0000000e+00,\n",
              "        1.0000000e+00, 1.0000000e+00],\n",
              "       ...,\n",
              "       [0.0000000e+00, 0.0000000e+00, 0.0000000e+00, ..., 2.0993831e-08,\n",
              "        7.6112617e-22, 1.5751414e-09],\n",
              "       [0.0000000e+00, 0.0000000e+00, 0.0000000e+00, ..., 2.4374471e-26,\n",
              "        7.4478098e-21, 4.4385464e-13],\n",
              "       [0.0000000e+00, 0.0000000e+00, 0.0000000e+00, ..., 9.8698646e-01,\n",
              "        2.8556108e-01, 9.9798965e-01]], dtype=float32)"
            ]
          },
          "metadata": {
            "tags": []
          },
          "execution_count": 114
        }
      ]
    },
    {
      "cell_type": "code",
      "metadata": {
        "id": "6ayN3U8ah5mK"
      },
      "source": [
        "probability_model = tf.keras.Sequential([model, \n",
        "                                         tf.keras.layers.Softmax()])"
      ],
      "id": "6ayN3U8ah5mK",
      "execution_count": 115,
      "outputs": []
    },
    {
      "cell_type": "code",
      "metadata": {
        "id": "WUTT1IocpQer"
      },
      "source": [
        "predictions = probability_model.predict(x_test)"
      ],
      "id": "WUTT1IocpQer",
      "execution_count": 116,
      "outputs": []
    },
    {
      "cell_type": "code",
      "metadata": {
        "colab": {
          "base_uri": "https://localhost:8080/"
        },
        "id": "JxZI6ESXpQhq",
        "outputId": "f8b9d954-da99-4e73-f223-ff2450d46774"
      },
      "source": [
        "predictions[0].max()"
      ],
      "id": "JxZI6ESXpQhq",
      "execution_count": 117,
      "outputs": [
        {
          "output_type": "execute_result",
          "data": {
            "text/plain": [
              "0.018169206"
            ]
          },
          "metadata": {
            "tags": []
          },
          "execution_count": 117
        }
      ]
    },
    {
      "cell_type": "code",
      "metadata": {
        "colab": {
          "base_uri": "https://localhost:8080/"
        },
        "id": "tfjLZ6uzpoTK",
        "outputId": "c50b3f24-ec0b-4166-979f-6d0a8be3f2d1"
      },
      "source": [
        "np.argmax(predictions[0])"
      ],
      "id": "tfjLZ6uzpoTK",
      "execution_count": 118,
      "outputs": [
        {
          "output_type": "execute_result",
          "data": {
            "text/plain": [
              "119"
            ]
          },
          "metadata": {
            "tags": []
          },
          "execution_count": 118
        }
      ]
    },
    {
      "cell_type": "code",
      "metadata": {
        "colab": {
          "base_uri": "https://localhost:8080/"
        },
        "id": "XheRxmpBpuFD",
        "outputId": "911dd789-6b6e-40c2-e144-e73c36d730bf"
      },
      "source": [
        "y_test[0]"
      ],
      "id": "XheRxmpBpuFD",
      "execution_count": 119,
      "outputs": [
        {
          "output_type": "execute_result",
          "data": {
            "text/plain": [
              "119"
            ]
          },
          "metadata": {
            "tags": []
          },
          "execution_count": 119
        }
      ]
    },
    {
      "cell_type": "code",
      "metadata": {
        "colab": {
          "base_uri": "https://localhost:8080/"
        },
        "id": "vHYu7DuvqqCu",
        "outputId": "c78fc1ec-03cc-44e9-f70b-66fed4c9ad6a"
      },
      "source": [
        "np.argmax(predictions[5])"
      ],
      "id": "vHYu7DuvqqCu",
      "execution_count": 120,
      "outputs": [
        {
          "output_type": "execute_result",
          "data": {
            "text/plain": [
              "58"
            ]
          },
          "metadata": {
            "tags": []
          },
          "execution_count": 120
        }
      ]
    },
    {
      "cell_type": "code",
      "metadata": {
        "colab": {
          "base_uri": "https://localhost:8080/"
        },
        "id": "UJtZDghXqqIc",
        "outputId": "208140b6-b05c-4400-a04a-115510d448be"
      },
      "source": [
        "y_test[5]"
      ],
      "id": "UJtZDghXqqIc",
      "execution_count": 121,
      "outputs": [
        {
          "output_type": "execute_result",
          "data": {
            "text/plain": [
              "58"
            ]
          },
          "metadata": {
            "tags": []
          },
          "execution_count": 121
        }
      ]
    },
    {
      "cell_type": "markdown",
      "metadata": {
        "id": "22vTjR2rrK-_"
      },
      "source": [
        "# ***prediction for one data***"
      ],
      "id": "22vTjR2rrK-_"
    },
    {
      "cell_type": "code",
      "metadata": {
        "id": "AuUZb1G4q1nt"
      },
      "source": [
        "predictions = probability_model.predict(x_test[10].reshape(1,-1))"
      ],
      "id": "AuUZb1G4q1nt",
      "execution_count": 122,
      "outputs": []
    },
    {
      "cell_type": "code",
      "metadata": {
        "colab": {
          "base_uri": "https://localhost:8080/"
        },
        "id": "jTOO1wnDrGDm",
        "outputId": "deb3af81-75a7-4abf-d6ce-be760708490a"
      },
      "source": [
        "np.argmax(predictions)"
      ],
      "id": "jTOO1wnDrGDm",
      "execution_count": 123,
      "outputs": [
        {
          "output_type": "execute_result",
          "data": {
            "text/plain": [
              "138"
            ]
          },
          "metadata": {
            "tags": []
          },
          "execution_count": 123
        }
      ]
    },
    {
      "cell_type": "code",
      "metadata": {
        "colab": {
          "base_uri": "https://localhost:8080/"
        },
        "id": "ppcnn-rRyQ8G",
        "outputId": "b898d312-c481-403b-d8a8-c871ff3c45f0"
      },
      "source": [
        "y_test[10]"
      ],
      "id": "ppcnn-rRyQ8G",
      "execution_count": 124,
      "outputs": [
        {
          "output_type": "execute_result",
          "data": {
            "text/plain": [
              "138"
            ]
          },
          "metadata": {
            "tags": []
          },
          "execution_count": 124
        }
      ]
    },
    {
      "cell_type": "code",
      "metadata": {
        "colab": {
          "base_uri": "https://localhost:8080/"
        },
        "id": "2Tm5TbnGrYms",
        "outputId": "ad086d5b-0c3a-4d98-f453-13d4948f374b"
      },
      "source": [
        "type(predictions)"
      ],
      "id": "2Tm5TbnGrYms",
      "execution_count": 125,
      "outputs": [
        {
          "output_type": "execute_result",
          "data": {
            "text/plain": [
              "numpy.ndarray"
            ]
          },
          "metadata": {
            "tags": []
          },
          "execution_count": 125
        }
      ]
    },
    {
      "cell_type": "code",
      "metadata": {
        "colab": {
          "base_uri": "https://localhost:8080/"
        },
        "id": "yxXumvyyr1JC",
        "outputId": "4ab7a5fe-4cb5-403c-8d38-f7210ad6c828"
      },
      "source": [
        "np.sort(predictions)"
      ],
      "id": "yxXumvyyr1JC",
      "execution_count": 126,
      "outputs": [
        {
          "output_type": "execute_result",
          "data": {
            "text/plain": [
              "array([[0.00586041, 0.00586041, 0.00586041, 0.00586041, 0.00586041,\n",
              "        0.00586041, 0.00586041, 0.00586041, 0.00586041, 0.00586041,\n",
              "        0.00586041, 0.00586041, 0.00586041, 0.00586041, 0.00586041,\n",
              "        0.00586041, 0.00586041, 0.00586041, 0.00586041, 0.00586041,\n",
              "        0.00586041, 0.00586041, 0.00586041, 0.00586041, 0.00586041,\n",
              "        0.00586041, 0.00586041, 0.00586041, 0.00586041, 0.00586041,\n",
              "        0.00586041, 0.00586041, 0.00586041, 0.00586041, 0.00586041,\n",
              "        0.00586041, 0.00586041, 0.00586041, 0.00586041, 0.00586041,\n",
              "        0.00586041, 0.00586041, 0.00586041, 0.00586041, 0.00586041,\n",
              "        0.00586041, 0.00586041, 0.00586041, 0.00586041, 0.00586041,\n",
              "        0.00586041, 0.00586041, 0.00586041, 0.00586041, 0.00586041,\n",
              "        0.00586041, 0.00586041, 0.00586041, 0.00586041, 0.00586041,\n",
              "        0.00586041, 0.00586041, 0.00586041, 0.00586041, 0.00586041,\n",
              "        0.00586041, 0.00586041, 0.00586041, 0.00586041, 0.00586041,\n",
              "        0.00586041, 0.00586041, 0.00586041, 0.00586041, 0.00586041,\n",
              "        0.00586041, 0.00586041, 0.00586041, 0.00586041, 0.00586041,\n",
              "        0.00586041, 0.00586041, 0.00586041, 0.00586041, 0.00586041,\n",
              "        0.00586041, 0.00586041, 0.00586041, 0.00586041, 0.00586041,\n",
              "        0.00586041, 0.00586041, 0.00586041, 0.00586041, 0.00586041,\n",
              "        0.00586041, 0.00586041, 0.00586041, 0.00586041, 0.00586041,\n",
              "        0.00586041, 0.00586041, 0.00586041, 0.00586041, 0.00586041,\n",
              "        0.00586041, 0.00586041, 0.00586041, 0.00586041, 0.00586041,\n",
              "        0.00586041, 0.00586041, 0.00586041, 0.00586041, 0.00586041,\n",
              "        0.00586041, 0.00586041, 0.00586041, 0.00586041, 0.00586041,\n",
              "        0.00586042, 0.00586042, 0.00586054, 0.00586091, 0.00586396,\n",
              "        0.0058678 , 0.00589209, 0.00676221, 0.006783  , 0.00709694,\n",
              "        0.00714883, 0.01231639, 0.01286319, 0.01329322, 0.0148773 ,\n",
              "        0.01565605, 0.01568722, 0.01583335, 0.01589597, 0.01589805,\n",
              "        0.01592549, 0.01592659, 0.01592976, 0.01593003, 0.01593024,\n",
              "        0.01593025]], dtype=float32)"
            ]
          },
          "metadata": {
            "tags": []
          },
          "execution_count": 126
        }
      ]
    },
    {
      "cell_type": "code",
      "metadata": {
        "id": "sNucfqNRyBpF"
      },
      "source": [
        ""
      ],
      "id": "sNucfqNRyBpF",
      "execution_count": 126,
      "outputs": []
    }
  ]
}